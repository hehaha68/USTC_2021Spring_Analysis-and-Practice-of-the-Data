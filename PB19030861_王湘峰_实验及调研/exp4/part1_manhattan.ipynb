{
 "cells": [
  {
   "cell_type": "code",
   "execution_count": 1,
   "id": "periodic-company",
   "metadata": {},
   "outputs": [
    {
     "data": {
      "text/html": [
       "<div>\n",
       "<style scoped>\n",
       "    .dataframe tbody tr th:only-of-type {\n",
       "        vertical-align: middle;\n",
       "    }\n",
       "\n",
       "    .dataframe tbody tr th {\n",
       "        vertical-align: top;\n",
       "    }\n",
       "\n",
       "    .dataframe thead th {\n",
       "        text-align: right;\n",
       "    }\n",
       "</style>\n",
       "<table border=\"1\" class=\"dataframe\">\n",
       "  <thead>\n",
       "    <tr style=\"text-align: right;\">\n",
       "      <th></th>\n",
       "      <th>index</th>\n",
       "      <th>queueId</th>\n",
       "      <th>mapId</th>\n",
       "      <th>seasonId</th>\n",
       "      <th>team1_win</th>\n",
       "      <th>team1_firstBlood</th>\n",
       "      <th>team1_firstTower</th>\n",
       "      <th>team1_firstInhibitor</th>\n",
       "      <th>team1_firstBaron</th>\n",
       "      <th>team1_firstDragon</th>\n",
       "      <th>...</th>\n",
       "      <th>player9_goldEarned</th>\n",
       "      <th>player9_role</th>\n",
       "      <th>player9_lane</th>\n",
       "      <th>player10_championId</th>\n",
       "      <th>player10_kills</th>\n",
       "      <th>player10_deaths</th>\n",
       "      <th>player10_assists</th>\n",
       "      <th>player10_goldEarned</th>\n",
       "      <th>player10_role</th>\n",
       "      <th>player10_lane</th>\n",
       "    </tr>\n",
       "  </thead>\n",
       "  <tbody>\n",
       "    <tr>\n",
       "      <th>0</th>\n",
       "      <td>0</td>\n",
       "      <td>420</td>\n",
       "      <td>11</td>\n",
       "      <td>13</td>\n",
       "      <td>0</td>\n",
       "      <td>True</td>\n",
       "      <td>False</td>\n",
       "      <td>False</td>\n",
       "      <td>False</td>\n",
       "      <td>False</td>\n",
       "      <td>...</td>\n",
       "      <td>6967</td>\n",
       "      <td>DUO_SUPPORT</td>\n",
       "      <td>NONE</td>\n",
       "      <td>157</td>\n",
       "      <td>3</td>\n",
       "      <td>0</td>\n",
       "      <td>8</td>\n",
       "      <td>8168</td>\n",
       "      <td>DUO</td>\n",
       "      <td>NONE</td>\n",
       "    </tr>\n",
       "    <tr>\n",
       "      <th>1</th>\n",
       "      <td>1</td>\n",
       "      <td>420</td>\n",
       "      <td>11</td>\n",
       "      <td>13</td>\n",
       "      <td>1</td>\n",
       "      <td>False</td>\n",
       "      <td>True</td>\n",
       "      <td>True</td>\n",
       "      <td>False</td>\n",
       "      <td>True</td>\n",
       "      <td>...</td>\n",
       "      <td>8133</td>\n",
       "      <td>SOLO</td>\n",
       "      <td>MIDDLE</td>\n",
       "      <td>555</td>\n",
       "      <td>3</td>\n",
       "      <td>7</td>\n",
       "      <td>4</td>\n",
       "      <td>6943</td>\n",
       "      <td>DUO_SUPPORT</td>\n",
       "      <td>BOTTOM</td>\n",
       "    </tr>\n",
       "    <tr>\n",
       "      <th>2</th>\n",
       "      <td>2</td>\n",
       "      <td>420</td>\n",
       "      <td>11</td>\n",
       "      <td>13</td>\n",
       "      <td>0</td>\n",
       "      <td>False</td>\n",
       "      <td>True</td>\n",
       "      <td>False</td>\n",
       "      <td>False</td>\n",
       "      <td>True</td>\n",
       "      <td>...</td>\n",
       "      <td>11868</td>\n",
       "      <td>DUO_CARRY</td>\n",
       "      <td>BOTTOM</td>\n",
       "      <td>122</td>\n",
       "      <td>2</td>\n",
       "      <td>2</td>\n",
       "      <td>1</td>\n",
       "      <td>9685</td>\n",
       "      <td>SOLO</td>\n",
       "      <td>TOP</td>\n",
       "    </tr>\n",
       "    <tr>\n",
       "      <th>3</th>\n",
       "      <td>3</td>\n",
       "      <td>420</td>\n",
       "      <td>11</td>\n",
       "      <td>13</td>\n",
       "      <td>0</td>\n",
       "      <td>True</td>\n",
       "      <td>False</td>\n",
       "      <td>False</td>\n",
       "      <td>False</td>\n",
       "      <td>True</td>\n",
       "      <td>...</td>\n",
       "      <td>6703</td>\n",
       "      <td>DUO_SUPPORT</td>\n",
       "      <td>BOTTOM</td>\n",
       "      <td>23</td>\n",
       "      <td>6</td>\n",
       "      <td>2</td>\n",
       "      <td>10</td>\n",
       "      <td>13109</td>\n",
       "      <td>SOLO</td>\n",
       "      <td>TOP</td>\n",
       "    </tr>\n",
       "    <tr>\n",
       "      <th>4</th>\n",
       "      <td>4</td>\n",
       "      <td>420</td>\n",
       "      <td>11</td>\n",
       "      <td>13</td>\n",
       "      <td>1</td>\n",
       "      <td>True</td>\n",
       "      <td>True</td>\n",
       "      <td>True</td>\n",
       "      <td>False</td>\n",
       "      <td>False</td>\n",
       "      <td>...</td>\n",
       "      <td>6823</td>\n",
       "      <td>DUO</td>\n",
       "      <td>MIDDLE</td>\n",
       "      <td>25</td>\n",
       "      <td>5</td>\n",
       "      <td>7</td>\n",
       "      <td>8</td>\n",
       "      <td>6809</td>\n",
       "      <td>DUO_SUPPORT</td>\n",
       "      <td>BOTTOM</td>\n",
       "    </tr>\n",
       "  </tbody>\n",
       "</table>\n",
       "<p>5 rows × 81 columns</p>\n",
       "</div>"
      ],
      "text/plain": [
       "   index  queueId  mapId  seasonId  team1_win  team1_firstBlood  \\\n",
       "0      0      420     11        13          0              True   \n",
       "1      1      420     11        13          1             False   \n",
       "2      2      420     11        13          0             False   \n",
       "3      3      420     11        13          0              True   \n",
       "4      4      420     11        13          1              True   \n",
       "\n",
       "   team1_firstTower  team1_firstInhibitor  team1_firstBaron  \\\n",
       "0             False                 False             False   \n",
       "1              True                  True             False   \n",
       "2              True                 False             False   \n",
       "3             False                 False             False   \n",
       "4              True                  True             False   \n",
       "\n",
       "   team1_firstDragon  ...  player9_goldEarned  player9_role  player9_lane  \\\n",
       "0              False  ...                6967   DUO_SUPPORT          NONE   \n",
       "1               True  ...                8133          SOLO        MIDDLE   \n",
       "2               True  ...               11868     DUO_CARRY        BOTTOM   \n",
       "3               True  ...                6703   DUO_SUPPORT        BOTTOM   \n",
       "4              False  ...                6823           DUO        MIDDLE   \n",
       "\n",
       "   player10_championId  player10_kills  player10_deaths player10_assists  \\\n",
       "0                  157               3                0                8   \n",
       "1                  555               3                7                4   \n",
       "2                  122               2                2                1   \n",
       "3                   23               6                2               10   \n",
       "4                   25               5                7                8   \n",
       "\n",
       "  player10_goldEarned  player10_role  player10_lane  \n",
       "0                8168            DUO           NONE  \n",
       "1                6943    DUO_SUPPORT         BOTTOM  \n",
       "2                9685           SOLO            TOP  \n",
       "3               13109           SOLO            TOP  \n",
       "4                6809    DUO_SUPPORT         BOTTOM  \n",
       "\n",
       "[5 rows x 81 columns]"
      ]
     },
     "execution_count": 1,
     "metadata": {},
     "output_type": "execute_result"
    }
   ],
   "source": [
    "#导入库以及读入数据集\n",
    "import pandas as pd\n",
    "import numpy as np\n",
    "import time\n",
    "from tqdm import tqdm\n",
    "\n",
    "raw=pd.read_csv('exp3.csv')\n",
    "raw.head()"
   ]
  },
  {
   "cell_type": "code",
   "execution_count": 2,
   "id": "offensive-accessory",
   "metadata": {},
   "outputs": [],
   "source": [
    "#分别计算队伍经济差、K、D、A的差以及KDA差（KDA=[K+A]/D)\n",
    "def team_gold():\n",
    "    raw1=df.loc[:,['player1_goldEarned','player2_goldEarned','player3_goldEarned','player4_goldEarned','player5_goldEarned']]\n",
    "    raw2=df.loc[:,['player6_goldEarned','player7_goldEarned','player8_goldEarned','player9_goldEarned','player10_goldEarned']]\n",
    "    win=df.loc[:,'team1_win']\n",
    "    raw1['gold1'] = raw1.apply(lambda x: x.sum(), axis=1)\n",
    "    raw2['gold2'] = raw2.apply(lambda x: x.sum(), axis=1)\n",
    "    gold=pd.concat([raw1['gold1'],raw2['gold2'],win],axis=1)\n",
    "    gold['diff'] = gold['gold1']-gold['gold2']\n",
    "    return gold\n",
    "    \n",
    "def team_KDA(df):\n",
    "    raw1=df.iloc[:,12:43]\n",
    "    raw2=df.iloc[:,44:78]\n",
    "    win=df.loc[:,'team1_win']\n",
    "    raw1['t1_kills']=raw1['player1_kills']+raw1['player2_kills']+raw1['player3_kills']+raw1['player4_kills']+raw1['player5_kills']\n",
    "    raw1['t1_deaths']=raw1['player1_deaths']+raw1['player2_deaths']+raw1['player3_deaths']+raw1['player4_deaths']+raw1['player5_deaths']\n",
    "    raw1['t1_assists']=raw1['player1_assists']+raw1['player2_assists']+raw1['player3_assists']+raw1['player4_assists']+raw1['player5_assists']\n",
    "    raw2['t2_kills']=raw2['player6_kills']+raw2['player7_kills']+raw2['player8_kills']+raw2['player9_kills']+raw2['player10_kills']\n",
    "    raw2['t2_deaths']=raw2['player6_deaths']+raw2['player7_deaths']+raw2['player8_deaths']+raw2['player9_deaths']+raw2['player10_deaths']\n",
    "    raw2['t2_assists']=raw2['player6_assists']+raw2['player7_assists']+raw2['player8_assists']+raw2['player9_assists']+raw2['player10_assists']\n",
    "    \n",
    "    KDA=pd.concat([raw1[['t1_kills','t1_deaths','t1_assists']],raw2[['t2_kills','t2_deaths','t2_assists']],win],axis=1)\n",
    "    KDA['t1win']=df['team1_win']\n",
    "    KDA['t1_KDA']=(KDA['t1_kills']+KDA['t1_assists'])/KDA['t1_deaths']\n",
    "    KDA['t2_KDA']=(KDA['t2_kills']+KDA['t2_assists'])/KDA['t2_deaths']\n",
    "    KDA['KDAdiff']=KDA['t1_KDA']-KDA['t2_KDA']\n",
    "    KDA['killdiff']=KDA['t1_kills']-KDA['t2_kills']\n",
    "    KDA['deathdiff']=KDA['t1_deaths']-KDA['t2_deaths']\n",
    "    KDA['assistdiff']=KDA['t1_assists']-KDA['t2_assists']\n",
    "    return KDA[['KDAdiff','killdiff','deathdiff','assistdiff']]"
   ]
  },
  {
   "cell_type": "code",
   "execution_count": 3,
   "id": "smart-boston",
   "metadata": {},
   "outputs": [],
   "source": [
    "#预处理并提取特征（如一血、一龙、经济差等）\n",
    "def geten(df):\n",
    "    en=pd.DataFrame()\n",
    "    en=df.iloc[:,4:11].astype('int')\n",
    "    gold=team_gold()\n",
    "    KDA=team_KDA(df)\n",
    "    gold=(gold-gold.min())/(gold.max()-gold.min())\n",
    "    KDA=(KDA-KDA.min())/(KDA.max()-KDA.min())\n",
    "    en['golddiff']=gold['diff']\n",
    "    en=pd.concat([en,KDA],axis=1)\n",
    "    en=en.dropna(axis=0,how='any') \n",
    "    en.loc[en.team1_win == 0,'team1_win']=-1 #把失败的对局改为-1，以方便确定投票结果\n",
    "    \n",
    "    en=en.reset_index(drop=True)\n",
    "    return en   "
   ]
  },
  {
   "cell_type": "code",
   "execution_count": 4,
   "id": "mexican-hotel",
   "metadata": {},
   "outputs": [],
   "source": [
    "#KNN算法实现：计算特征距离，选取k个邻居并投票\n",
    "def KNN(train,test,k):\n",
    "    KNNs=time.time()\n",
    "    correct=0\n",
    "    num=len(test)\n",
    "    test['pre']=0\n",
    "    for j in tqdm(range(len(test))):\n",
    "        train['distance']=0\n",
    "        for i in range(len(par)):\n",
    "            train['distance']=train['distance']+abs(train.iloc[:,i+1]-test.iloc[j,i+1])*par[i] #Manhattan距离\n",
    "        \n",
    "        distance=train['distance']\n",
    "        distance=distance.sort_values(ascending=True)\n",
    "        distance=distance.iloc[0:k]           #截断前k近的邻居\n",
    "        \n",
    "        sum=0                                 #sum进行计票\n",
    "        judger=train.loc[distance.index]\n",
    "        sum=judger['team1_win'].sum()\n",
    "        if sum > 0:                           #写入test集\n",
    "            test.loc[j,'pre']=1\n",
    "        else:\n",
    "            test.loc[j,'pre']=-1\n",
    "    \n",
    "    for k in range(num):\n",
    "        if test.loc[k,'team1_win'] == test.loc[k,'pre']:\n",
    "            correct=correct+1\n",
    "            \n",
    "    rate=correct/num\n",
    "    KNNe=time.time()\n",
    "    print('预测准确率是%.6f KNN用时：'%rate,KNNe-KNNs)\n",
    "    return rate"
   ]
  },
  {
   "cell_type": "code",
   "execution_count": 9,
   "id": "covered-membrane",
   "metadata": {},
   "outputs": [],
   "source": [
    "pd.options.mode.use_inf_as_na = True   #处理异常值\n",
    "#参数表\n",
    "par=[1,1,4,1,2,2,480,120,5,5,5]\n",
    "k=50\n",
    "df=raw.copy()"
   ]
  },
  {
   "cell_type": "code",
   "execution_count": 63,
   "id": "solar-folder",
   "metadata": {},
   "outputs": [
    {
     "name": "stderr",
     "output_type": "stream",
     "text": [
      "100%|████████████████████████████████████████████████████████████████████████████| 15838/15838 [05:05<00:00, 51.87it/s]\n"
     ]
    },
    {
     "name": "stdout",
     "output_type": "stream",
     "text": [
      "预测准确率是0.980490 KNN用时： 305.58740305900574\n"
     ]
    },
    {
     "data": {
      "text/plain": [
       "0.9804899608536431"
      ]
     },
     "execution_count": 63,
     "metadata": {},
     "output_type": "execute_result"
    }
   ],
   "source": [
    "test=geten(df.iloc[0:16000])\n",
    "train=geten(df.iloc[16001:])\n",
    "KNN(train,test,k)"
   ]
  },
  {
   "cell_type": "code",
   "execution_count": 8,
   "id": "primary-noise",
   "metadata": {},
   "outputs": [
    {
     "name": "stderr",
     "output_type": "stream",
     "text": [
      "100%|████████████████████████████████████████████████████████████████████████████| 15841/15841 [06:00<00:00, 43.92it/s]\n"
     ]
    },
    {
     "name": "stdout",
     "output_type": "stream",
     "text": [
      "预测准确率是0.978221 KNN用时： 360.9083790779114\n"
     ]
    },
    {
     "data": {
      "text/plain": [
       "0.9782210719020263"
      ]
     },
     "execution_count": 8,
     "metadata": {},
     "output_type": "execute_result"
    }
   ],
   "source": [
    "test=geten(df.loc[16001:32000])\n",
    "train=geten(pd.concat([df.loc[32001:],df.loc[0:16000]],axis=0))\n",
    "KNN(train,test,k)"
   ]
  },
  {
   "cell_type": "code",
   "execution_count": 80,
   "id": "wicked-medicine",
   "metadata": {},
   "outputs": [
    {
     "name": "stderr",
     "output_type": "stream",
     "text": [
      "100%|████████████████████████████████████████████████████████████████████████████| 15835/15835 [04:55<00:00, 53.57it/s]\n"
     ]
    },
    {
     "name": "stdout",
     "output_type": "stream",
     "text": [
      "预测准确率是0.980297 KNN用时： 295.8763635158539\n"
     ]
    },
    {
     "data": {
      "text/plain": [
       "0.9802968108620145"
      ]
     },
     "execution_count": 80,
     "metadata": {},
     "output_type": "execute_result"
    }
   ],
   "source": [
    "test=geten(df.loc[32001:48000])\n",
    "train=geten(pd.concat([df.loc[48001:],df.loc[0:32000]],axis=0))\n",
    "KNN(train,test,k)"
   ]
  },
  {
   "cell_type": "code",
   "execution_count": 81,
   "id": "outer-helmet",
   "metadata": {},
   "outputs": [
    {
     "name": "stderr",
     "output_type": "stream",
     "text": [
      "100%|████████████████████████████████████████████████████████████████████████████| 15848/15848 [05:01<00:00, 52.50it/s]\n"
     ]
    },
    {
     "name": "stdout",
     "output_type": "stream",
     "text": [
      "预测准确率是0.979997 KNN用时： 302.06705236434937\n"
     ]
    },
    {
     "data": {
      "text/plain": [
       "0.979997476022211"
      ]
     },
     "execution_count": 81,
     "metadata": {},
     "output_type": "execute_result"
    }
   ],
   "source": [
    "test=geten(df.loc[48001:64000])\n",
    "train=geten(pd.concat([df.loc[64001:],df.loc[0:48000]],axis=0))\n",
    "KNN(train,test,k)"
   ]
  },
  {
   "cell_type": "code",
   "execution_count": 82,
   "id": "academic-marriage",
   "metadata": {},
   "outputs": [
    {
     "name": "stderr",
     "output_type": "stream",
     "text": [
      "100%|████████████████████████████████████████████████████████████████████████████| 15824/15824 [04:54<00:00, 53.69it/s]\n"
     ]
    },
    {
     "name": "stdout",
     "output_type": "stream",
     "text": [
      "预测准确率是0.979398 KNN用时： 294.9702043533325\n"
     ]
    },
    {
     "data": {
      "text/plain": [
       "0.9793983822042467"
      ]
     },
     "execution_count": 82,
     "metadata": {},
     "output_type": "execute_result"
    }
   ],
   "source": [
    "test=geten(df.loc[64001:])\n",
    "train=geten(df.loc[0:64000])\n",
    "KNN(train,test,k)"
   ]
  },
  {
   "cell_type": "code",
   "execution_count": null,
   "id": "electoral-berlin",
   "metadata": {},
   "outputs": [],
   "source": [
    "The average is 0.97969336583439238"
   ]
  }
 ],
 "metadata": {
  "kernelspec": {
   "display_name": "Python 3",
   "language": "python",
   "name": "python3"
  },
  "language_info": {
   "codemirror_mode": {
    "name": "ipython",
    "version": 3
   },
   "file_extension": ".py",
   "mimetype": "text/x-python",
   "name": "python",
   "nbconvert_exporter": "python",
   "pygments_lexer": "ipython3",
   "version": "3.8.7"
  }
 },
 "nbformat": 4,
 "nbformat_minor": 5
}

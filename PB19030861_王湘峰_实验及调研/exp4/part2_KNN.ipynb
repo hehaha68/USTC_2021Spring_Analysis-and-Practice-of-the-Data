{
 "cells": [
  {
   "cell_type": "code",
   "execution_count": 1,
   "id": "narrative-jumping",
   "metadata": {},
   "outputs": [
    {
     "data": {
      "text/html": [
       "<div>\n",
       "<style scoped>\n",
       "    .dataframe tbody tr th:only-of-type {\n",
       "        vertical-align: middle;\n",
       "    }\n",
       "\n",
       "    .dataframe tbody tr th {\n",
       "        vertical-align: top;\n",
       "    }\n",
       "\n",
       "    .dataframe thead th {\n",
       "        text-align: right;\n",
       "    }\n",
       "</style>\n",
       "<table border=\"1\" class=\"dataframe\">\n",
       "  <thead>\n",
       "    <tr style=\"text-align: right;\">\n",
       "      <th></th>\n",
       "      <th>index</th>\n",
       "      <th>gameDuration</th>\n",
       "    </tr>\n",
       "  </thead>\n",
       "  <tbody>\n",
       "    <tr>\n",
       "      <th>0</th>\n",
       "      <td>20000</td>\n",
       "      <td>1671</td>\n",
       "    </tr>\n",
       "    <tr>\n",
       "      <th>1</th>\n",
       "      <td>20001</td>\n",
       "      <td>1227</td>\n",
       "    </tr>\n",
       "    <tr>\n",
       "      <th>2</th>\n",
       "      <td>20002</td>\n",
       "      <td>1458</td>\n",
       "    </tr>\n",
       "    <tr>\n",
       "      <th>3</th>\n",
       "      <td>20003</td>\n",
       "      <td>1317</td>\n",
       "    </tr>\n",
       "    <tr>\n",
       "      <th>4</th>\n",
       "      <td>20004</td>\n",
       "      <td>2091</td>\n",
       "    </tr>\n",
       "  </tbody>\n",
       "</table>\n",
       "</div>"
      ],
      "text/plain": [
       "   index  gameDuration\n",
       "0  20000          1671\n",
       "1  20001          1227\n",
       "2  20002          1458\n",
       "3  20003          1317\n",
       "4  20004          2091"
      ]
     },
     "execution_count": 1,
     "metadata": {},
     "output_type": "execute_result"
    }
   ],
   "source": [
    "#导入库与数据集\n",
    "import pandas as pd\n",
    "import numpy as np\n",
    "from sklearn.model_selection import train_test_split\n",
    "from sklearn import metrics\n",
    "from sklearn import neighbors\n",
    "from tqdm import tqdm\n",
    "\n",
    "raw=pd.read_csv('exp3.csv')\n",
    "label=pd.read_csv('label.csv')\n",
    "label.head()"
   ]
  },
  {
   "cell_type": "code",
   "execution_count": 2,
   "id": "prerequisite-apartment",
   "metadata": {},
   "outputs": [],
   "source": [
    "def geten(df):\n",
    "    en=pd.DataFrame()\n",
    "    \n",
    "    raw1=df.iloc[:,12:43]\n",
    "    raw2=df.iloc[:,44:78]\n",
    "    raw1['t1_kills']=raw1['player1_kills']+raw1['player2_kills']+raw1['player3_kills']+raw1['player4_kills']+raw1['player5_kills']\n",
    "    raw1['t1_deaths']=raw1['player1_deaths']+raw1['player2_deaths']+raw1['player3_deaths']+raw1['player4_deaths']+raw1['player5_deaths']\n",
    "    raw1['t1_assists']=raw1['player1_assists']+raw1['player2_assists']+raw1['player3_assists']+raw1['player4_assists']+raw1['player5_assists']\n",
    "    raw2['t2_kills']=raw2['player6_kills']+raw2['player7_kills']+raw2['player8_kills']+raw2['player9_kills']+raw2['player10_kills']\n",
    "    raw2['t2_deaths']=raw2['player6_deaths']+raw2['player7_deaths']+raw2['player8_deaths']+raw2['player9_deaths']+raw2['player10_deaths']\n",
    "    raw2['t2_assists']=raw2['player6_assists']+raw2['player7_assists']+raw2['player8_assists']+raw2['player9_assists']+raw2['player10_assists']\n",
    "    en['kills'] = raw1['t1_kills']+raw2['t2_kills']\n",
    "    en['assists'] = raw1['t1_assists']+raw2['t2_assists']\n",
    "    en['deaths'] = raw1['t1_deaths']+raw2['t2_deaths']\n",
    "    \n",
    "    raw1=df.loc[:,['player1_goldEarned','player2_goldEarned','player3_goldEarned','player4_goldEarned','player5_goldEarned']]\n",
    "    raw2=df.loc[:,['player6_goldEarned','player7_goldEarned','player8_goldEarned','player9_goldEarned','player10_goldEarned']]\n",
    "    raw1['gold1'] = raw1.apply(lambda x: x.sum(), axis=1)\n",
    "    raw2['gold2'] = raw2.apply(lambda x: x.sum(), axis=1)\n",
    "    en['gold'] = raw1['gold1']+raw2['gold2']\n",
    "    \n",
    "    #en['gameDuration'] = df['gameDuration']                                                                                                                        \n",
    "    return en         "
   ]
  },
  {
   "cell_type": "code",
   "execution_count": 3,
   "id": "adolescent-amber",
   "metadata": {},
   "outputs": [
    {
     "data": {
      "text/html": [
       "<div>\n",
       "<style scoped>\n",
       "    .dataframe tbody tr th:only-of-type {\n",
       "        vertical-align: middle;\n",
       "    }\n",
       "\n",
       "    .dataframe tbody tr th {\n",
       "        vertical-align: top;\n",
       "    }\n",
       "\n",
       "    .dataframe thead th {\n",
       "        text-align: right;\n",
       "    }\n",
       "</style>\n",
       "<table border=\"1\" class=\"dataframe\">\n",
       "  <thead>\n",
       "    <tr style=\"text-align: right;\">\n",
       "      <th></th>\n",
       "      <th>index</th>\n",
       "      <th>queueId</th>\n",
       "      <th>mapId</th>\n",
       "      <th>seasonId</th>\n",
       "      <th>team1_win</th>\n",
       "      <th>team1_firstBlood</th>\n",
       "      <th>team1_firstTower</th>\n",
       "      <th>team1_firstInhibitor</th>\n",
       "      <th>team1_firstBaron</th>\n",
       "      <th>team1_firstDragon</th>\n",
       "      <th>...</th>\n",
       "      <th>player9_lane</th>\n",
       "      <th>player10_championId</th>\n",
       "      <th>player10_kills</th>\n",
       "      <th>player10_deaths</th>\n",
       "      <th>player10_assists</th>\n",
       "      <th>player10_goldEarned</th>\n",
       "      <th>player10_role</th>\n",
       "      <th>player10_lane</th>\n",
       "      <th>index</th>\n",
       "      <th>gameDuration</th>\n",
       "    </tr>\n",
       "  </thead>\n",
       "  <tbody>\n",
       "    <tr>\n",
       "      <th>1184</th>\n",
       "      <td>21184</td>\n",
       "      <td>420</td>\n",
       "      <td>11</td>\n",
       "      <td>13</td>\n",
       "      <td>1</td>\n",
       "      <td>False</td>\n",
       "      <td>True</td>\n",
       "      <td>True</td>\n",
       "      <td>True</td>\n",
       "      <td>True</td>\n",
       "      <td>...</td>\n",
       "      <td>BOTTOM</td>\n",
       "      <td>117</td>\n",
       "      <td>1</td>\n",
       "      <td>4</td>\n",
       "      <td>5</td>\n",
       "      <td>5319</td>\n",
       "      <td>DUO_SUPPORT</td>\n",
       "      <td>BOTTOM</td>\n",
       "      <td>21184</td>\n",
       "      <td>1468</td>\n",
       "    </tr>\n",
       "    <tr>\n",
       "      <th>55680</th>\n",
       "      <td>75680</td>\n",
       "      <td>430</td>\n",
       "      <td>11</td>\n",
       "      <td>13</td>\n",
       "      <td>1</td>\n",
       "      <td>False</td>\n",
       "      <td>False</td>\n",
       "      <td>False</td>\n",
       "      <td>False</td>\n",
       "      <td>True</td>\n",
       "      <td>...</td>\n",
       "      <td>BOTTOM</td>\n",
       "      <td>555</td>\n",
       "      <td>2</td>\n",
       "      <td>4</td>\n",
       "      <td>1</td>\n",
       "      <td>5606</td>\n",
       "      <td>DUO_SUPPORT</td>\n",
       "      <td>BOTTOM</td>\n",
       "      <td>75680</td>\n",
       "      <td>1344</td>\n",
       "    </tr>\n",
       "    <tr>\n",
       "      <th>57137</th>\n",
       "      <td>77137</td>\n",
       "      <td>420</td>\n",
       "      <td>11</td>\n",
       "      <td>13</td>\n",
       "      <td>1</td>\n",
       "      <td>True</td>\n",
       "      <td>True</td>\n",
       "      <td>True</td>\n",
       "      <td>False</td>\n",
       "      <td>True</td>\n",
       "      <td>...</td>\n",
       "      <td>JUNGLE</td>\n",
       "      <td>412</td>\n",
       "      <td>0</td>\n",
       "      <td>11</td>\n",
       "      <td>8</td>\n",
       "      <td>4964</td>\n",
       "      <td>DUO_SUPPORT</td>\n",
       "      <td>BOTTOM</td>\n",
       "      <td>77137</td>\n",
       "      <td>1285</td>\n",
       "    </tr>\n",
       "    <tr>\n",
       "      <th>32098</th>\n",
       "      <td>52098</td>\n",
       "      <td>420</td>\n",
       "      <td>11</td>\n",
       "      <td>13</td>\n",
       "      <td>0</td>\n",
       "      <td>False</td>\n",
       "      <td>False</td>\n",
       "      <td>False</td>\n",
       "      <td>False</td>\n",
       "      <td>False</td>\n",
       "      <td>...</td>\n",
       "      <td>MIDDLE</td>\n",
       "      <td>120</td>\n",
       "      <td>9</td>\n",
       "      <td>5</td>\n",
       "      <td>12</td>\n",
       "      <td>13441</td>\n",
       "      <td>NONE</td>\n",
       "      <td>JUNGLE</td>\n",
       "      <td>52098</td>\n",
       "      <td>1674</td>\n",
       "    </tr>\n",
       "    <tr>\n",
       "      <th>7498</th>\n",
       "      <td>27498</td>\n",
       "      <td>420</td>\n",
       "      <td>11</td>\n",
       "      <td>13</td>\n",
       "      <td>1</td>\n",
       "      <td>True</td>\n",
       "      <td>True</td>\n",
       "      <td>False</td>\n",
       "      <td>False</td>\n",
       "      <td>True</td>\n",
       "      <td>...</td>\n",
       "      <td>NONE</td>\n",
       "      <td>112</td>\n",
       "      <td>1</td>\n",
       "      <td>5</td>\n",
       "      <td>0</td>\n",
       "      <td>6177</td>\n",
       "      <td>DUO_SUPPORT</td>\n",
       "      <td>NONE</td>\n",
       "      <td>27498</td>\n",
       "      <td>1145</td>\n",
       "    </tr>\n",
       "  </tbody>\n",
       "</table>\n",
       "<p>5 rows × 83 columns</p>\n",
       "</div>"
      ],
      "text/plain": [
       "       index  queueId  mapId  seasonId  team1_win  team1_firstBlood  \\\n",
       "1184   21184      420     11        13          1             False   \n",
       "55680  75680      430     11        13          1             False   \n",
       "57137  77137      420     11        13          1              True   \n",
       "32098  52098      420     11        13          0             False   \n",
       "7498   27498      420     11        13          1              True   \n",
       "\n",
       "       team1_firstTower  team1_firstInhibitor  team1_firstBaron  \\\n",
       "1184               True                  True              True   \n",
       "55680             False                 False             False   \n",
       "57137              True                  True             False   \n",
       "32098             False                 False             False   \n",
       "7498               True                 False             False   \n",
       "\n",
       "       team1_firstDragon  ...  player9_lane  player10_championId  \\\n",
       "1184                True  ...        BOTTOM                  117   \n",
       "55680               True  ...        BOTTOM                  555   \n",
       "57137               True  ...        JUNGLE                  412   \n",
       "32098              False  ...        MIDDLE                  120   \n",
       "7498                True  ...          NONE                  112   \n",
       "\n",
       "       player10_kills  player10_deaths  player10_assists  player10_goldEarned  \\\n",
       "1184                1                4                 5                 5319   \n",
       "55680               2                4                 1                 5606   \n",
       "57137               0               11                 8                 4964   \n",
       "32098               9                5                12                13441   \n",
       "7498                1                5                 0                 6177   \n",
       "\n",
       "      player10_role player10_lane  index  gameDuration  \n",
       "1184    DUO_SUPPORT        BOTTOM  21184          1468  \n",
       "55680   DUO_SUPPORT        BOTTOM  75680          1344  \n",
       "57137   DUO_SUPPORT        BOTTOM  77137          1285  \n",
       "32098          NONE        JUNGLE  52098          1674  \n",
       "7498    DUO_SUPPORT          NONE  27498          1145  \n",
       "\n",
       "[5 rows x 83 columns]"
      ]
     },
     "execution_count": 3,
     "metadata": {},
     "output_type": "execute_result"
    }
   ],
   "source": [
    "#初始化DataFrame文件\n",
    "df=raw.loc[20000:]\n",
    "df=df.reset_index(drop=True)\n",
    "df=pd.concat([df,label],axis=1)\n",
    "df=df.reindex(np.random.permutation(len(df)))\n",
    "df.head()"
   ]
  },
  {
   "cell_type": "code",
   "execution_count": 4,
   "id": "architectural-airplane",
   "metadata": {},
   "outputs": [
    {
     "data": {
      "text/html": [
       "<div>\n",
       "<style scoped>\n",
       "    .dataframe tbody tr th:only-of-type {\n",
       "        vertical-align: middle;\n",
       "    }\n",
       "\n",
       "    .dataframe tbody tr th {\n",
       "        vertical-align: top;\n",
       "    }\n",
       "\n",
       "    .dataframe thead th {\n",
       "        text-align: right;\n",
       "    }\n",
       "</style>\n",
       "<table border=\"1\" class=\"dataframe\">\n",
       "  <thead>\n",
       "    <tr style=\"text-align: right;\">\n",
       "      <th></th>\n",
       "      <th>kills</th>\n",
       "      <th>assists</th>\n",
       "      <th>deaths</th>\n",
       "      <th>gold</th>\n",
       "    </tr>\n",
       "  </thead>\n",
       "  <tbody>\n",
       "    <tr>\n",
       "      <th>1184</th>\n",
       "      <td>35</td>\n",
       "      <td>70</td>\n",
       "      <td>35</td>\n",
       "      <td>87933</td>\n",
       "    </tr>\n",
       "    <tr>\n",
       "      <th>55680</th>\n",
       "      <td>39</td>\n",
       "      <td>40</td>\n",
       "      <td>39</td>\n",
       "      <td>78877</td>\n",
       "    </tr>\n",
       "    <tr>\n",
       "      <th>57137</th>\n",
       "      <td>50</td>\n",
       "      <td>69</td>\n",
       "      <td>50</td>\n",
       "      <td>80472</td>\n",
       "    </tr>\n",
       "    <tr>\n",
       "      <th>32098</th>\n",
       "      <td>75</td>\n",
       "      <td>100</td>\n",
       "      <td>75</td>\n",
       "      <td>114471</td>\n",
       "    </tr>\n",
       "    <tr>\n",
       "      <th>7498</th>\n",
       "      <td>26</td>\n",
       "      <td>43</td>\n",
       "      <td>26</td>\n",
       "      <td>63754</td>\n",
       "    </tr>\n",
       "  </tbody>\n",
       "</table>\n",
       "</div>"
      ],
      "text/plain": [
       "       kills  assists  deaths    gold\n",
       "1184      35       70      35   87933\n",
       "55680     39       40      39   78877\n",
       "57137     50       69      50   80472\n",
       "32098     75      100      75  114471\n",
       "7498      26       43      26   63754"
      ]
     },
     "execution_count": 4,
     "metadata": {},
     "output_type": "execute_result"
    }
   ],
   "source": [
    "#提取特征\n",
    "train=geten(df)\n",
    "train.head()"
   ]
  },
  {
   "cell_type": "code",
   "execution_count": 5,
   "id": "jewish-corporation",
   "metadata": {},
   "outputs": [
    {
     "data": {
      "text/plain": [
       "1184     1470\n",
       "55680    1365\n",
       "57137    1295\n",
       "32098    1680\n",
       "7498     1155\n",
       "Name: gameDuration, dtype: int32"
      ]
     },
     "execution_count": 5,
     "metadata": {},
     "output_type": "execute_result"
    }
   ],
   "source": [
    "train=(train-train.min())/(train.max()-train.min())\n",
    "train['gameDuration']=df['gameDuration']\n",
    "target=df['gameDuration']\n",
    "target=((target/35).astype('int')+1)*35\n",
    "target.head()"
   ]
  },
  {
   "cell_type": "code",
   "execution_count": 6,
   "id": "tutorial-gross",
   "metadata": {},
   "outputs": [
    {
     "name": "stdout",
     "output_type": "stream",
     "text": [
      "[[0.19886364 0.17857143 0.19774011 0.33798223]\n",
      " [0.22159091 0.10204082 0.22033898 0.29967428]\n",
      " [0.28409091 0.17602041 0.28248588 0.30642132]\n",
      " ...\n",
      " [0.26704545 0.1505102  0.26553672 0.39983926]\n",
      " [0.35795455 0.24234694 0.3559322  0.43664975]\n",
      " [0.11363636 0.05357143 0.11299435 0.21274958]]\n",
      "[1470 1365 1295 ... 1750 1785 1050]\n",
      "[[0.4375     0.22959184 0.43502825 0.55420051]\n",
      " [0.17045455 0.10714286 0.16949153 0.32208968]\n",
      " [0.39772727 0.19132653 0.39548023 0.50102369]\n",
      " ...\n",
      " [0.61363636 0.32142857 0.61016949 0.57453469]\n",
      " [0.31818182 0.16326531 0.31638418 0.39493655]\n",
      " [0.56818182 0.29336735 0.56497175 0.61913283]]\n",
      "[2249 1449 2061 ... 2081 1597 2289]\n"
     ]
    }
   ],
   "source": [
    "x_train=train.iloc[0:48000,0:4]\n",
    "x_test=train.iloc[48001:,0:4]\n",
    "y_train=target.iloc[0:48000]\n",
    "y_test=train.iloc[48001:,4]\n",
    "\n",
    "x_train=x_train.values\n",
    "x_test=x_test.values\n",
    "y_train=y_train.values\n",
    "y_test=y_test.values\n",
    "print (x_train)\n",
    "print (y_train)\n",
    "print (x_test)\n",
    "print (y_test)"
   ]
  },
  {
   "cell_type": "code",
   "execution_count": 7,
   "id": "through-private",
   "metadata": {
    "scrolled": true
   },
   "outputs": [
    {
     "name": "stderr",
     "output_type": "stream",
     "text": [
      "100%|██████████████████████████████████████████████████████████████████████████████████| 65/65 [00:40<00:00,  1.62it/s]"
     ]
    },
    {
     "name": "stdout",
     "output_type": "stream",
     "text": [
      "best k is: 63 min error is: 15444.495707975664\n"
     ]
    },
    {
     "name": "stderr",
     "output_type": "stream",
     "text": [
      "\n"
     ]
    }
   ],
   "source": [
    "#KNN分类算法（分隔区间法）\n",
    "min=float('inf')\n",
    "for k in tqdm(range(5,70)):  #网格搜索最佳K值\n",
    "    knn = neighbors.KNeighborsClassifier(k)\n",
    "    knn.fit(x_train,y_train)\n",
    "    pre=knn.predict(x_test)\n",
    "    err=metrics.mean_squared_error(pre,y_test)\n",
    "    if err<min:\n",
    "        min=err\n",
    "        best=k\n",
    "print('best k is:',best,'min error is:',min)"
   ]
  },
  {
   "cell_type": "code",
   "execution_count": 8,
   "id": "emotional-cloud",
   "metadata": {},
   "outputs": [
    {
     "data": {
      "text/plain": [
       "KNeighborsClassifier(n_neighbors=63)"
      ]
     },
     "execution_count": 8,
     "metadata": {},
     "output_type": "execute_result"
    }
   ],
   "source": [
    "knn = neighbors.KNeighborsClassifier(best)\n",
    "knn.fit(x_train,y_train)"
   ]
  },
  {
   "cell_type": "code",
   "execution_count": 9,
   "id": "increased-sleeping",
   "metadata": {},
   "outputs": [
    {
     "name": "stdout",
     "output_type": "stream",
     "text": [
      "合格率为： 0.8434036169680806\n"
     ]
    }
   ],
   "source": [
    "#如果预测值与真实值误差小于100那么认为预测是“合格”的，计算合格率\n",
    "n=0\n",
    "for i in range(len(pre)):\n",
    "    if abs(pre[i]-y_test[i])<100:\n",
    "        n=n+1\n",
    "print('合格率为：',n/len(pre))"
   ]
  },
  {
   "cell_type": "code",
   "execution_count": 10,
   "id": "basic-amplifier",
   "metadata": {},
   "outputs": [],
   "source": [
    "#KNN回归\n",
    "df=raw.loc[20000:]\n",
    "df=df.reset_index(drop=True)\n",
    "df=pd.concat([df,label],axis=1)\n",
    "df=df.reindex(np.random.permutation(len(df)))\n",
    "\n",
    "train=geten(df)\n",
    "train=(train-train.min())/(train.max()-train.min())\n",
    "train['gameDuration']=df['gameDuration']\n",
    "target=df['gameDuration']\n",
    "\n",
    "x_train=train.iloc[0:48000,0:4]\n",
    "x_test=train.iloc[48001:,0:4]\n",
    "y_train=target.iloc[0:48000]\n",
    "y_test=train.iloc[48001:,4]\n",
    "x_train=x_train.values\n",
    "x_test=x_test.values\n",
    "y_train=y_train.values\n",
    "y_test=y_test.values"
   ]
  },
  {
   "cell_type": "code",
   "execution_count": 11,
   "id": "pediatric-forge",
   "metadata": {},
   "outputs": [
    {
     "name": "stderr",
     "output_type": "stream",
     "text": [
      "100%|██████████████████████████████████████████████████████████████████████████████████| 65/65 [00:20<00:00,  3.18it/s]"
     ]
    },
    {
     "name": "stdout",
     "output_type": "stream",
     "text": [
      "best k is: 25 min error is: 12326.612138744895\n"
     ]
    },
    {
     "name": "stderr",
     "output_type": "stream",
     "text": [
      "\n"
     ]
    }
   ],
   "source": [
    "#网格搜索最佳K值\n",
    "min=float('inf')\n",
    "for k in tqdm(range(5,70)):\n",
    "    knn = neighbors.KNeighborsRegressor(k)\n",
    "    knn.fit(x_train,y_train)\n",
    "    pre=knn.predict(x_test)\n",
    "    err=metrics.mean_squared_error(pre,y_test)\n",
    "    if err<min:\n",
    "        min=err\n",
    "        best=k\n",
    "print('best k is:',best,'min error is:',min)"
   ]
  },
  {
   "cell_type": "code",
   "execution_count": 12,
   "id": "grand-majority",
   "metadata": {},
   "outputs": [
    {
     "data": {
      "text/plain": [
       "KNeighborsRegressor(n_neighbors=25)"
      ]
     },
     "execution_count": 12,
     "metadata": {},
     "output_type": "execute_result"
    }
   ],
   "source": [
    "knn = neighbors.KNeighborsRegressor(best)\n",
    "knn.fit(x_train,y_train)"
   ]
  },
  {
   "cell_type": "code",
   "execution_count": 13,
   "id": "mathematical-genetics",
   "metadata": {},
   "outputs": [
    {
     "name": "stdout",
     "output_type": "stream",
     "text": [
      "0.8784898741561796\n"
     ]
    }
   ],
   "source": [
    "#如果预测值与真实值误差小于100那么认为预测是“合格”的，计算合格率\n",
    "n=0\n",
    "for i in range(len(pre)):\n",
    "    if abs(pre[i]-y_test[i])<100:\n",
    "        n=n+1\n",
    "print(n/len(pre))"
   ]
  },
  {
   "cell_type": "code",
   "execution_count": 20,
   "id": "simplified-stomach",
   "metadata": {},
   "outputs": [],
   "source": [
    "#将预测结果写入csv文件中\n",
    "df2=raw.loc[0:19999]\n",
    "test=geten(df2)\n",
    "test=(test-test.min())/(test.max()-test.min())\n",
    "result=knn.predict(test)\n",
    "test['gameDuration']=result\n",
    "test=test[['gameDuration']]\n",
    "test.to_csv(\"test.csv\",index=True)"
   ]
  },
  {
   "cell_type": "code",
   "execution_count": null,
   "id": "polyphonic-circulation",
   "metadata": {},
   "outputs": [],
   "source": []
  }
 ],
 "metadata": {
  "kernelspec": {
   "display_name": "Python 3",
   "language": "python",
   "name": "python3"
  },
  "language_info": {
   "codemirror_mode": {
    "name": "ipython",
    "version": 3
   },
   "file_extension": ".py",
   "mimetype": "text/x-python",
   "name": "python",
   "nbconvert_exporter": "python",
   "pygments_lexer": "ipython3",
   "version": "3.8.7"
  }
 },
 "nbformat": 4,
 "nbformat_minor": 5
}

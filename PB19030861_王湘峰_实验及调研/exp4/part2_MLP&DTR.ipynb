{
 "cells": [
  {
   "cell_type": "code",
   "execution_count": 1,
   "id": "unlimited-description",
   "metadata": {},
   "outputs": [
    {
     "data": {
      "text/html": [
       "<div>\n",
       "<style scoped>\n",
       "    .dataframe tbody tr th:only-of-type {\n",
       "        vertical-align: middle;\n",
       "    }\n",
       "\n",
       "    .dataframe tbody tr th {\n",
       "        vertical-align: top;\n",
       "    }\n",
       "\n",
       "    .dataframe thead th {\n",
       "        text-align: right;\n",
       "    }\n",
       "</style>\n",
       "<table border=\"1\" class=\"dataframe\">\n",
       "  <thead>\n",
       "    <tr style=\"text-align: right;\">\n",
       "      <th></th>\n",
       "      <th>index</th>\n",
       "      <th>gameDuration</th>\n",
       "    </tr>\n",
       "  </thead>\n",
       "  <tbody>\n",
       "    <tr>\n",
       "      <th>0</th>\n",
       "      <td>20000</td>\n",
       "      <td>1671</td>\n",
       "    </tr>\n",
       "    <tr>\n",
       "      <th>1</th>\n",
       "      <td>20001</td>\n",
       "      <td>1227</td>\n",
       "    </tr>\n",
       "    <tr>\n",
       "      <th>2</th>\n",
       "      <td>20002</td>\n",
       "      <td>1458</td>\n",
       "    </tr>\n",
       "    <tr>\n",
       "      <th>3</th>\n",
       "      <td>20003</td>\n",
       "      <td>1317</td>\n",
       "    </tr>\n",
       "    <tr>\n",
       "      <th>4</th>\n",
       "      <td>20004</td>\n",
       "      <td>2091</td>\n",
       "    </tr>\n",
       "  </tbody>\n",
       "</table>\n",
       "</div>"
      ],
      "text/plain": [
       "   index  gameDuration\n",
       "0  20000          1671\n",
       "1  20001          1227\n",
       "2  20002          1458\n",
       "3  20003          1317\n",
       "4  20004          2091"
      ]
     },
     "execution_count": 1,
     "metadata": {},
     "output_type": "execute_result"
    }
   ],
   "source": [
    "#导入库与数据集\n",
    "import pandas as pd\n",
    "import numpy as np\n",
    "from sklearn.model_selection import train_test_split\n",
    "from sklearn import metrics\n",
    "from sklearn import tree\n",
    "\n",
    "raw=pd.read_csv('exp3.csv')\n",
    "label=pd.read_csv('label.csv')\n",
    "label.head()"
   ]
  },
  {
   "cell_type": "code",
   "execution_count": 2,
   "id": "sudden-master",
   "metadata": {},
   "outputs": [],
   "source": [
    "def geten(df):\n",
    "    en=pd.DataFrame()\n",
    "    \n",
    "    raw1=df.iloc[:,12:43]\n",
    "    raw2=df.iloc[:,44:78]\n",
    "    raw1['t1_kills']=raw1['player1_kills']+raw1['player2_kills']+raw1['player3_kills']+raw1['player4_kills']+raw1['player5_kills']\n",
    "    raw1['t1_deaths']=raw1['player1_deaths']+raw1['player2_deaths']+raw1['player3_deaths']+raw1['player4_deaths']+raw1['player5_deaths']\n",
    "    raw1['t1_assists']=raw1['player1_assists']+raw1['player2_assists']+raw1['player3_assists']+raw1['player4_assists']+raw1['player5_assists']\n",
    "    raw2['t2_kills']=raw2['player6_kills']+raw2['player7_kills']+raw2['player8_kills']+raw2['player9_kills']+raw2['player10_kills']\n",
    "    raw2['t2_deaths']=raw2['player6_deaths']+raw2['player7_deaths']+raw2['player8_deaths']+raw2['player9_deaths']+raw2['player10_deaths']\n",
    "    raw2['t2_assists']=raw2['player6_assists']+raw2['player7_assists']+raw2['player8_assists']+raw2['player9_assists']+raw2['player10_assists']\n",
    "    en['kills'] = raw1['t1_kills']+raw2['t2_kills']\n",
    "    en['assists'] = raw1['t1_assists']+raw2['t2_assists']\n",
    "    en['deaths'] = raw1['t1_deaths']+raw2['t2_deaths']\n",
    "    \n",
    "    raw1=df.loc[:,['player1_goldEarned','player2_goldEarned','player3_goldEarned','player4_goldEarned','player5_goldEarned']]\n",
    "    raw2=df.loc[:,['player6_goldEarned','player7_goldEarned','player8_goldEarned','player9_goldEarned','player10_goldEarned']]\n",
    "    raw1['gold1'] = raw1.apply(lambda x: x.sum(), axis=1)\n",
    "    raw2['gold2'] = raw2.apply(lambda x: x.sum(), axis=1)\n",
    "    en['gold'] = raw1['gold1']+raw2['gold2']\n",
    "    \n",
    "    #en['gameDuration'] = df['gameDuration']                                                                                                                        \n",
    "    return en    "
   ]
  },
  {
   "cell_type": "code",
   "execution_count": 18,
   "id": "reverse-night",
   "metadata": {},
   "outputs": [
    {
     "data": {
      "text/html": [
       "<div>\n",
       "<style scoped>\n",
       "    .dataframe tbody tr th:only-of-type {\n",
       "        vertical-align: middle;\n",
       "    }\n",
       "\n",
       "    .dataframe tbody tr th {\n",
       "        vertical-align: top;\n",
       "    }\n",
       "\n",
       "    .dataframe thead th {\n",
       "        text-align: right;\n",
       "    }\n",
       "</style>\n",
       "<table border=\"1\" class=\"dataframe\">\n",
       "  <thead>\n",
       "    <tr style=\"text-align: right;\">\n",
       "      <th></th>\n",
       "      <th>index</th>\n",
       "      <th>queueId</th>\n",
       "      <th>mapId</th>\n",
       "      <th>seasonId</th>\n",
       "      <th>team1_win</th>\n",
       "      <th>team1_firstBlood</th>\n",
       "      <th>team1_firstTower</th>\n",
       "      <th>team1_firstInhibitor</th>\n",
       "      <th>team1_firstBaron</th>\n",
       "      <th>team1_firstDragon</th>\n",
       "      <th>...</th>\n",
       "      <th>player9_lane</th>\n",
       "      <th>player10_championId</th>\n",
       "      <th>player10_kills</th>\n",
       "      <th>player10_deaths</th>\n",
       "      <th>player10_assists</th>\n",
       "      <th>player10_goldEarned</th>\n",
       "      <th>player10_role</th>\n",
       "      <th>player10_lane</th>\n",
       "      <th>index</th>\n",
       "      <th>gameDuration</th>\n",
       "    </tr>\n",
       "  </thead>\n",
       "  <tbody>\n",
       "    <tr>\n",
       "      <th>42565</th>\n",
       "      <td>62565</td>\n",
       "      <td>420</td>\n",
       "      <td>11</td>\n",
       "      <td>13</td>\n",
       "      <td>1</td>\n",
       "      <td>True</td>\n",
       "      <td>True</td>\n",
       "      <td>False</td>\n",
       "      <td>False</td>\n",
       "      <td>True</td>\n",
       "      <td>...</td>\n",
       "      <td>NONE</td>\n",
       "      <td>67</td>\n",
       "      <td>0</td>\n",
       "      <td>2</td>\n",
       "      <td>0</td>\n",
       "      <td>4668</td>\n",
       "      <td>DUO</td>\n",
       "      <td>NONE</td>\n",
       "      <td>62565</td>\n",
       "      <td>914</td>\n",
       "    </tr>\n",
       "    <tr>\n",
       "      <th>47601</th>\n",
       "      <td>67601</td>\n",
       "      <td>430</td>\n",
       "      <td>11</td>\n",
       "      <td>13</td>\n",
       "      <td>0</td>\n",
       "      <td>True</td>\n",
       "      <td>False</td>\n",
       "      <td>False</td>\n",
       "      <td>False</td>\n",
       "      <td>True</td>\n",
       "      <td>...</td>\n",
       "      <td>JUNGLE</td>\n",
       "      <td>39</td>\n",
       "      <td>8</td>\n",
       "      <td>2</td>\n",
       "      <td>3</td>\n",
       "      <td>11218</td>\n",
       "      <td>SOLO</td>\n",
       "      <td>MIDDLE</td>\n",
       "      <td>67601</td>\n",
       "      <td>1376</td>\n",
       "    </tr>\n",
       "    <tr>\n",
       "      <th>36956</th>\n",
       "      <td>56956</td>\n",
       "      <td>420</td>\n",
       "      <td>11</td>\n",
       "      <td>13</td>\n",
       "      <td>0</td>\n",
       "      <td>False</td>\n",
       "      <td>False</td>\n",
       "      <td>False</td>\n",
       "      <td>False</td>\n",
       "      <td>False</td>\n",
       "      <td>...</td>\n",
       "      <td>NONE</td>\n",
       "      <td>412</td>\n",
       "      <td>2</td>\n",
       "      <td>0</td>\n",
       "      <td>7</td>\n",
       "      <td>5098</td>\n",
       "      <td>DUO_SUPPORT</td>\n",
       "      <td>NONE</td>\n",
       "      <td>56956</td>\n",
       "      <td>914</td>\n",
       "    </tr>\n",
       "    <tr>\n",
       "      <th>22087</th>\n",
       "      <td>42087</td>\n",
       "      <td>430</td>\n",
       "      <td>11</td>\n",
       "      <td>13</td>\n",
       "      <td>1</td>\n",
       "      <td>False</td>\n",
       "      <td>True</td>\n",
       "      <td>False</td>\n",
       "      <td>False</td>\n",
       "      <td>True</td>\n",
       "      <td>...</td>\n",
       "      <td>NONE</td>\n",
       "      <td>55</td>\n",
       "      <td>1</td>\n",
       "      <td>4</td>\n",
       "      <td>2</td>\n",
       "      <td>4955</td>\n",
       "      <td>DUO_SUPPORT</td>\n",
       "      <td>NONE</td>\n",
       "      <td>42087</td>\n",
       "      <td>935</td>\n",
       "    </tr>\n",
       "    <tr>\n",
       "      <th>31275</th>\n",
       "      <td>51275</td>\n",
       "      <td>420</td>\n",
       "      <td>11</td>\n",
       "      <td>13</td>\n",
       "      <td>0</td>\n",
       "      <td>False</td>\n",
       "      <td>False</td>\n",
       "      <td>False</td>\n",
       "      <td>False</td>\n",
       "      <td>False</td>\n",
       "      <td>...</td>\n",
       "      <td>MIDDLE</td>\n",
       "      <td>122</td>\n",
       "      <td>2</td>\n",
       "      <td>0</td>\n",
       "      <td>2</td>\n",
       "      <td>9797</td>\n",
       "      <td>SOLO</td>\n",
       "      <td>TOP</td>\n",
       "      <td>51275</td>\n",
       "      <td>1311</td>\n",
       "    </tr>\n",
       "  </tbody>\n",
       "</table>\n",
       "<p>5 rows × 83 columns</p>\n",
       "</div>"
      ],
      "text/plain": [
       "       index  queueId  mapId  seasonId  team1_win  team1_firstBlood  \\\n",
       "42565  62565      420     11        13          1              True   \n",
       "47601  67601      430     11        13          0              True   \n",
       "36956  56956      420     11        13          0             False   \n",
       "22087  42087      430     11        13          1             False   \n",
       "31275  51275      420     11        13          0             False   \n",
       "\n",
       "       team1_firstTower  team1_firstInhibitor  team1_firstBaron  \\\n",
       "42565              True                 False             False   \n",
       "47601             False                 False             False   \n",
       "36956             False                 False             False   \n",
       "22087              True                 False             False   \n",
       "31275             False                 False             False   \n",
       "\n",
       "       team1_firstDragon  ...  player9_lane  player10_championId  \\\n",
       "42565               True  ...          NONE                   67   \n",
       "47601               True  ...        JUNGLE                   39   \n",
       "36956              False  ...          NONE                  412   \n",
       "22087               True  ...          NONE                   55   \n",
       "31275              False  ...        MIDDLE                  122   \n",
       "\n",
       "       player10_kills  player10_deaths  player10_assists  player10_goldEarned  \\\n",
       "42565               0                2                 0                 4668   \n",
       "47601               8                2                 3                11218   \n",
       "36956               2                0                 7                 5098   \n",
       "22087               1                4                 2                 4955   \n",
       "31275               2                0                 2                 9797   \n",
       "\n",
       "      player10_role player10_lane  index  gameDuration  \n",
       "42565           DUO          NONE  62565           914  \n",
       "47601          SOLO        MIDDLE  67601          1376  \n",
       "36956   DUO_SUPPORT          NONE  56956           914  \n",
       "22087   DUO_SUPPORT          NONE  42087           935  \n",
       "31275          SOLO           TOP  51275          1311  \n",
       "\n",
       "[5 rows x 83 columns]"
      ]
     },
     "execution_count": 18,
     "metadata": {},
     "output_type": "execute_result"
    }
   ],
   "source": [
    "#初始化DataFrame文件\n",
    "df=raw.loc[20000:]\n",
    "df=df.reset_index(drop=True)\n",
    "df=pd.concat([df,label],axis=1)\n",
    "df=df.reindex(np.random.permutation(len(df))) #随机打乱\n",
    "df.head()"
   ]
  },
  {
   "cell_type": "code",
   "execution_count": 19,
   "id": "cordless-texas",
   "metadata": {},
   "outputs": [
    {
     "data": {
      "text/plain": [
       "42565     914\n",
       "47601    1376\n",
       "36956     914\n",
       "22087     935\n",
       "31275    1311\n",
       "Name: gameDuration, dtype: int64"
      ]
     },
     "execution_count": 19,
     "metadata": {},
     "output_type": "execute_result"
    }
   ],
   "source": [
    "train=geten(df)\n",
    "train.head()\n",
    "train=(train-train.min())/(train.max()-train.min())\n",
    "train['gameDuration']=df['gameDuration']\n",
    "target=df['gameDuration']\n",
    "#target=((target/45).astype('int')+1)*45\n",
    "target.head()"
   ]
  },
  {
   "cell_type": "code",
   "execution_count": 20,
   "id": "occupational-monthly",
   "metadata": {},
   "outputs": [
    {
     "name": "stdout",
     "output_type": "stream",
     "text": [
      "[[0.09659091 0.04846939 0.0960452  0.18664129]\n",
      " [0.26136364 0.14030612 0.25988701 0.332978  ]\n",
      " [0.11931818 0.04336735 0.11864407 0.18003384]\n",
      " ...\n",
      " [0.27272727 0.19387755 0.27118644 0.47886633]\n",
      " [0.32386364 0.28061224 0.3220339  0.50056261]\n",
      " [0.13068182 0.06122449 0.1299435  0.19717005]]\n",
      "[ 914 1376  914 ... 2039 2056 1003]\n",
      "[[0.22727273 0.11989796 0.23163842 0.27725888]\n",
      " [0.15909091 0.0994898  0.15819209 0.28319374]\n",
      " [0.11363636 0.06122449 0.11864407 0.21917513]\n",
      " ...\n",
      " [0.15909091 0.09438776 0.15819209 0.26548223]\n",
      " [0.375      0.24234694 0.37853107 0.44439509]\n",
      " [0.34659091 0.36989796 0.34463277 0.56651015]]\n",
      "[1248 1309 1043 ... 1232 1762 2431]\n"
     ]
    }
   ],
   "source": [
    "x_train=train.iloc[0:48000,0:4]\n",
    "x_test=train.iloc[48001:,0:4]\n",
    "\n",
    "y_train=target.iloc[0:48000]\n",
    "\n",
    "y_test=train.iloc[48001:,4]\n",
    "x_train=x_train.values\n",
    "x_test=x_test.values\n",
    "y_train=y_train.values\n",
    "y_test=y_test.values\n",
    "print (x_train)\n",
    "print (y_train)\n",
    "print (x_test)\n",
    "print (y_test)"
   ]
  },
  {
   "cell_type": "code",
   "execution_count": 21,
   "id": "gross-initial",
   "metadata": {},
   "outputs": [
    {
     "name": "stdout",
     "output_type": "stream",
     "text": [
      "24668.776481373447\n"
     ]
    }
   ],
   "source": [
    "clf = tree.DecisionTreeRegressor()\n",
    "clf = clf.fit(x_train,y_train)\n",
    "pre=clf.predict(x_test)\n",
    "err=metrics.mean_squared_error(pre,y_test)\n",
    "print(err)"
   ]
  },
  {
   "cell_type": "code",
   "execution_count": 22,
   "id": "cutting-wrapping",
   "metadata": {},
   "outputs": [
    {
     "name": "stdout",
     "output_type": "stream",
     "text": [
      "预测合格率为： 0.7678973247770647\n"
     ]
    }
   ],
   "source": [
    "#检测合格率\n",
    "n=0\n",
    "for i in range(len(pre)):\n",
    "    if abs(pre[i]-y_test[i])<100:\n",
    "        n=n+1\n",
    "print('预测合格率为：',n/len(pre))"
   ]
  },
  {
   "cell_type": "code",
   "execution_count": 8,
   "id": "statutory-range",
   "metadata": {},
   "outputs": [],
   "source": [
    "from sklearn.neural_network import MLPRegressor\n",
    "from sklearn.neural_network import MLPClassifier"
   ]
  },
  {
   "cell_type": "code",
   "execution_count": 23,
   "id": "quick-conducting",
   "metadata": {},
   "outputs": [],
   "source": [
    "train=geten(df)\n",
    "train=(train-train.min())/(train.max()-train.min())\n",
    "train['gameDuration']=df['gameDuration']\n",
    "target=df['gameDuration']"
   ]
  },
  {
   "cell_type": "code",
   "execution_count": 24,
   "id": "emotional-worst",
   "metadata": {
    "scrolled": true
   },
   "outputs": [],
   "source": [
    "x_train=train.iloc[0:48000,0:4]\n",
    "x_test=train.iloc[48001:,0:4]\n",
    "y_train=target.iloc[0:48000]\n",
    "y_test=train.iloc[48001:,4]\n",
    "x_train=x_train.values\n",
    "x_test=x_test.values\n",
    "y_train=y_train.values\n",
    "y_test=y_test.values"
   ]
  },
  {
   "cell_type": "code",
   "execution_count": 38,
   "id": "earned-madness",
   "metadata": {
    "scrolled": true
   },
   "outputs": [
    {
     "data": {
      "text/plain": [
       "MLPRegressor(alpha=1e-05, hidden_layer_sizes=(8,), learning_rate_init=0.005,\n",
       "             max_iter=1500, random_state=1)"
      ]
     },
     "execution_count": 38,
     "metadata": {},
     "output_type": "execute_result"
    }
   ],
   "source": [
    "clf = MLPRegressor(solver='adam', alpha=1e-5,max_iter=1500,learning_rate_init=0.005,\n",
    "                 hidden_layer_sizes=(8,),random_state=1)\n",
    "\n",
    "clf.fit(x_train,y_train)"
   ]
  },
  {
   "cell_type": "code",
   "execution_count": 39,
   "id": "african-sunrise",
   "metadata": {},
   "outputs": [
    {
     "name": "stdout",
     "output_type": "stream",
     "text": [
      "[1184.91415253 1303.64160819 1073.08453765 ... 1225.1635191  1741.45968532\n",
      " 2350.14716721] 18261.572422111127\n"
     ]
    }
   ],
   "source": [
    "pre=clf.predict(x_test)\n",
    "err=metrics.mean_squared_error(pre,y_test)\n",
    "print(pre,err)"
   ]
  },
  {
   "cell_type": "code",
   "execution_count": 40,
   "id": "moved-finder",
   "metadata": {},
   "outputs": [
    {
     "name": "stdout",
     "output_type": "stream",
     "text": [
      "0.8611550962580214\n"
     ]
    }
   ],
   "source": [
    "#检测合格率\n",
    "n=0\n",
    "for i in range(len(pre)):\n",
    "    if abs(pre[i]-y_test[i])<100:\n",
    "        n=n+1\n",
    "print(n/len(pre))"
   ]
  }
 ],
 "metadata": {
  "kernelspec": {
   "display_name": "Python 3",
   "language": "python",
   "name": "python3"
  },
  "language_info": {
   "codemirror_mode": {
    "name": "ipython",
    "version": 3
   },
   "file_extension": ".py",
   "mimetype": "text/x-python",
   "name": "python",
   "nbconvert_exporter": "python",
   "pygments_lexer": "ipython3",
   "version": "3.8.7"
  }
 },
 "nbformat": 4,
 "nbformat_minor": 5
}

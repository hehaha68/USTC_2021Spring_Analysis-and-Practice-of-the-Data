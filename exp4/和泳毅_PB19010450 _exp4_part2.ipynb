{
 "cells": [
  {
   "cell_type": "code",
   "execution_count": 7,
   "id": "a4454044",
   "metadata": {},
   "outputs": [],
   "source": [
    "import numpy as np\n",
    "import pandas as pd \n",
    "from sklearn import metrics\n",
    "import math\n",
    "import warnings\n",
    "import matplotlib.pyplot as plt\n",
    "plt.rcParams['font.sans-serif']=['SimHei']\n",
    "warnings.filterwarnings(\"ignore\")"
   ]
  },
  {
   "cell_type": "code",
   "execution_count": 8,
   "id": "dfa2fb05",
   "metadata": {},
   "outputs": [],
   "source": [
    "def getfeature(train):\n",
    "    df = train.copy()\n",
    "    df1 = pd.DataFrame()\n",
    "    \n",
    "    df1['index'] = df['index']\n",
    "    \n",
    "    df['team1_avg_kills']=df[[\"player1_kills\", \"player2_kills\",\"player3_kills\",\"player4_kills\",\"player5_kills\"]].mean(axis=1)\n",
    "    df['team2_avg_kills']=df[[\"player6_kills\", \"player7_kills\",\"player8_kills\",\"player9_kills\",\"player10_kills\"]].mean(axis=1)\n",
    "    df1['sum_kills']=(df['team1_avg_kills']+df['team2_avg_kills'])\n",
    "    \n",
    "    df['team1_avg_assists']=df[[\"player1_assists\", \"player2_assists\",\"player3_assists\",\"player4_assists\",\"player5_assists\"]].mean(axis=1)\n",
    "    df['team2_avg_assists']=df[[\"player6_assists\", \"player7_assists\",\"player8_assists\",\"player9_assists\",\"player10_assists\"]].mean(axis=1)\n",
    "    df1['sum_assists']=(df['team1_avg_assists']+df['team2_avg_assists'])\n",
    "    \n",
    "    df['team1_avg_deaths']=df[[\"player1_deaths\", \"player2_deaths\",\"player3_deaths\",\"player4_deaths\",\"player5_deaths\"]].mean(axis=1)\n",
    "    df['team2_avg_deaths']=df[[\"player6_deaths\", \"player7_deaths\",\"player8_deaths\",\"player9_deaths\",\"player10_deaths\"]].mean(axis=1)\n",
    "    df1['sum_deaths']=(df['team1_avg_deaths']+df['team2_avg_deaths'])\n",
    "    \n",
    "    df['team1_sum_gold']=df[[\"player1_goldEarned\", \"player2_goldEarned\",\"player3_goldEarned\",\"player4_goldEarned\",\"player5_goldEarned\"]].sum(axis=1)\n",
    "    df['team2_sum_gold']=df[[\"player6_goldEarned\", \"player7_goldEarned\",\"player8_goldEarned\",\"player9_goldEarned\",\"player10_goldEarned\"]].sum(axis=1)\n",
    "    df1['sum_gold']=df['team1_sum_gold']+df['team2_sum_gold']\n",
    "    return df1"
   ]
  },
  {
   "cell_type": "code",
   "execution_count": 9,
   "id": "33ea320b",
   "metadata": {},
   "outputs": [],
   "source": [
    "def Normal(train,Min,Max):\n",
    "    df = train.copy()\n",
    "    \n",
    "    df1 = pd.DataFrame()    \n",
    "    df1['index'] = df['index']\n",
    "    \n",
    "    df1['sum_kills'] = (df['sum_kills'] - Min[0])/(Max[0]- Min[0])\n",
    "    \n",
    "    df1['sum_assists'] = (df['sum_assists'] - Min[1])/(Max[1]- Min[1])\n",
    "\n",
    "    df1['sum_deaths'] = (df['sum_deaths'] - Min[2])/(Max[2]- Min[2])\n",
    "    \n",
    "    df1['sum_gold'] = (df['sum_gold'] - Min[3])/(Max[3]- Min[3])\n",
    "    return df1"
   ]
  },
  {
   "cell_type": "code",
   "execution_count": 10,
   "id": "b726ab5d",
   "metadata": {},
   "outputs": [],
   "source": [
    "def roundup(x):\n",
    "    return int(math.ceil(float(x) / 35)) *35"
   ]
  },
  {
   "cell_type": "code",
   "execution_count": 11,
   "id": "8f833bc5",
   "metadata": {
    "scrolled": false
   },
   "outputs": [],
   "source": [
    "df1 = pd.read_csv('exp3.csv')\n",
    "df2 = pd.read_csv('label.csv')\n",
    "\n",
    "df1 = getfeature(df1)\n",
    "#Min = [min(df1['sum_kills']), min(df1['sum_assists']), min(df1['sum_deaths']),min(df1['sum_gold']),min(df2['gameDuration'])]\n",
    "#Max = [max(df1['sum_kills']), max(df1['sum_assists']), max(df1['sum_deaths']),max(df1['sum_gold']),max(df2['gameDuration'])]\n",
    "#df1 = Normal(df1,Min,Max)\n",
    "\n",
    "Test = df1[0:20000]\n",
    "Test = Test.drop(['index'],axis=1)\n",
    "\n",
    "df = pd.merge(df1[20000:80000], df2,how='left')\n",
    "\n",
    "#随机打乱\n",
    "df=df.reindex(np.random.permutation(df.index))\n",
    "\n",
    "#df[0:48000]['gameDuration'] = df['gameDuration'][0:48000].apply(roundup)\n",
    "#df['gameDuration'] = (df['gameDuration'] - Min[4])/(Max[4]- Min[4])\n",
    "df = df.drop(['index'],axis=1)\n"
   ]
  },
  {
   "cell_type": "code",
   "execution_count": 12,
   "id": "69e0b444",
   "metadata": {},
   "outputs": [],
   "source": [
    "#初始化\n",
    "dataset=np.array(df[0:48000])\n",
    "m,n=np.shape(dataset)\n",
    "totalX=np.zeros((m,4))\n",
    "totalY=np.zeros((m,1))\n",
    "for i in range(m):#分组：前4个值输入\n",
    "    totalX[i][0]=dataset[i][0]\n",
    "    totalX[i][1]=dataset[i][1]\n",
    "    totalX[i][2]=dataset[i][2]\n",
    "    totalX[i][3]=dataset[i][3]\n",
    "    totalY[i][0]=dataset[i][4]\n",
    "\n",
    "data = totalX\n",
    "labels = totalY \n",
    "\n",
    "#测试\n",
    "test = np.array(df[48000:60000])\n",
    "m,n=np.shape(test)\n",
    "testX=np.zeros((m,4))\n",
    "testY=np.zeros((m,1))\n",
    "for i in range(m):#分组：前4个值输入\n",
    "    testX[i][0]=test[i][0]\n",
    "    testX[i][1]=test[i][1]\n",
    "    testX[i][2]=test[i][2]\n",
    "    testX[i][3]=test[i][3]\n",
    "    testY[i][0]=test[i][4]\n",
    "#testY = testY*(Max[4] - Min[4])+Min[4]"
   ]
  },
  {
   "cell_type": "markdown",
   "id": "7d7251bc",
   "metadata": {},
   "source": [
    "## BP单层神经网络"
   ]
  },
  {
   "cell_type": "code",
   "execution_count": 62,
   "id": "864bf5eb",
   "metadata": {
    "scrolled": true
   },
   "outputs": [
    {
     "name": "stdout",
     "output_type": "stream",
     "text": [
      "第 10 次训练后,训练集损失函数为：0.0110479\n",
      "第 20 次训练后,训练集损失函数为：0.0239295\n",
      "第 30 次训练后,训练集损失函数为：0.00918414\n",
      "第 40 次训练后,训练集损失函数为：0.00875808\n",
      "第 50 次训练后,训练集损失函数为：0.00764571\n",
      "第 60 次训练后,训练集损失函数为：0.00665852\n",
      "第 70 次训练后,训练集损失函数为：0.00619002\n",
      "第 80 次训练后,训练集损失函数为：0.00575043\n",
      "第 90 次训练后,训练集损失函数为：0.00523358\n",
      "第 100 次训练后,训练集损失函数为：0.00459652\n",
      "第 110 次训练后,训练集损失函数为：0.00382492\n",
      "第 120 次训练后,训练集损失函数为：0.00302132\n",
      "第 130 次训练后,训练集损失函数为：0.00243131\n",
      "第 140 次训练后,训练集损失函数为：0.00216143\n",
      "第 150 次训练后,训练集损失函数为：0.00208027\n",
      "第 160 次训练后,训练集损失函数为：0.00204887\n",
      "第 170 次训练后,训练集损失函数为：0.00203032\n",
      "第 180 次训练后,训练集损失函数为：0.00202219\n",
      "第 190 次训练后,训练集损失函数为：0.00201744\n",
      "第 200 次训练后,训练集损失函数为：0.00201212\n",
      "第 210 次训练后,训练集损失函数为：0.002006\n",
      "第 220 次训练后,训练集损失函数为：0.0019989\n",
      "第 230 次训练后,训练集损失函数为：0.00199055\n",
      "第 240 次训练后,训练集损失函数为：0.0019808\n",
      "第 250 次训练后,训练集损失函数为：0.0019695\n",
      "第 260 次训练后,训练集损失函数为：0.00195657\n",
      "第 270 次训练后,训练集损失函数为：0.00194195\n",
      "第 280 次训练后,训练集损失函数为：0.00192564\n",
      "第 290 次训练后,训练集损失函数为：0.00190769\n",
      "第 300 次训练后,训练集损失函数为：0.0018882\n",
      "第 310 次训练后,训练集损失函数为：0.00186733\n",
      "第 320 次训练后,训练集损失函数为：0.00184528\n",
      "第 330 次训练后,训练集损失函数为：0.0018223\n",
      "第 340 次训练后,训练集损失函数为：0.00179873\n",
      "第 350 次训练后,训练集损失函数为：0.00177496\n",
      "第 360 次训练后,训练集损失函数为：0.00175148\n",
      "第 370 次训练后,训练集损失函数为：0.00172886\n",
      "第 380 次训练后,训练集损失函数为：0.00170768\n",
      "第 390 次训练后,训练集损失函数为：0.00168844\n",
      "第 400 次训练后,训练集损失函数为：0.00167147\n",
      "第 410 次训练后,训练集损失函数为：0.00165687\n",
      "第 420 次训练后,训练集损失函数为：0.0016445\n",
      "第 430 次训练后,训练集损失函数为：0.00163403\n",
      "第 440 次训练后,训练集损失函数为：0.00162509\n",
      "第 450 次训练后,训练集损失函数为：0.00161732\n",
      "第 460 次训练后,训练集损失函数为：0.00161043\n",
      "第 470 次训练后,训练集损失函数为：0.00160416\n",
      "总训练次数： 478\n",
      "正确率为： 0.95175\n",
      "测试集均方误差为： 16664.203\n"
     ]
    }
   ],
   "source": [
    "##BP神经网络\n",
    "import tensorflow.compat.v1 as tf\n",
    "#定义参数\n",
    "d=4#输入节点个数\n",
    "l=1#输出节点个数\n",
    "q=2*d+1#隐层个数,采用经验公式2d+1\n",
    "eta=0.5#学习率\n",
    "error=0.0016#精度\n",
    " \n",
    "#初始化权值和阈值\n",
    "w1= tf.Variable(tf.random.normal([d, q], stddev=1, seed=1))#seed设定随机种子，保证每次初始化相同数据\n",
    "b1=tf.Variable(tf.constant(0.0,shape=[q]))\n",
    "w2= tf.Variable(tf.random.normal([q, l], stddev=1, seed=1))\n",
    "b2=tf.Variable(tf.constant(0.0,shape=[l]))\n",
    " \n",
    "#输入占位\n",
    "tf.compat.v1.disable_eager_execution()\n",
    "x = tf.placeholder(tf.float32, shape=(None, d))\n",
    "y_ = tf.placeholder(tf.float32, shape=(None, l))\n",
    " \n",
    "#构建图：前向传播\n",
    "a=tf.nn.sigmoid(tf.matmul(x,w1)+b1)#sigmoid激活函数\n",
    "y=tf.nn.sigmoid(tf.matmul(a,w2)+b2)\n",
    "mse = tf.reduce_mean(tf.square(y_ -  y))#损失函数采用均方误差\n",
    "train_step = tf.train.AdamOptimizer(eta).minimize(mse)#Adam算法\n",
    "\n",
    "data = totalX\n",
    "labels = totalY \n",
    "labels = (labels - Min[4])/(Max[4]- Min[4])\n",
    "\n",
    "#创建会话来执行图\n",
    "with tf.Session() as sess:\n",
    "    init_op = tf.global_variables_initializer()#初始化节点\n",
    "    sess.run(init_op)\n",
    " \n",
    "    STEPS=0\n",
    "    while True:\n",
    "        sess.run(train_step, feed_dict={x: data, y_: labels})\n",
    "        STEPS+=1\n",
    "        train_mse= sess.run(mse, feed_dict={x: data, y_: labels})\n",
    "        if STEPS % 10 == 0:#每训练100次，输出损失函数\n",
    "            print(\"第 %d 次训练后,训练集损失函数为：%g\" % (STEPS, train_mse))\n",
    "        if train_mse < error:\n",
    "            break\n",
    "    print(\"总训练次数：\",STEPS)\n",
    "\n",
    "    #测试\n",
    "    Normal_y= sess.run(y, feed_dict={x: testX})#求得测试集下的y计算值\n",
    "    DeNormal_y=Normal_y*(Max[4] - Min[4])+Min[4] #将y反归一化\n",
    "    Dy = DeNormal_y.tolist()\n",
    "    DY = testY.tolist()\n",
    "    n = len(Dy)\n",
    "    right = 0\n",
    "    \n",
    "    for i in range(n):\n",
    "        if Dy[i][0] >= (math.floor(DY[i][0]/100)*100-150) and Dy[i][0] <= (math.ceil(DY[i][0]/100)*100+150):\n",
    "            right += 1\n",
    "    print('正确率为：',right/n)\n",
    "    err_BP = sess.run(mse, feed_dict={y: DeNormal_y, y_: testY})#计算均方误差\n",
    "    print(\"测试集均方误差为：\",err_BP)\n",
    "    \n",
    "    #预测\n",
    "    test = np.array(Test)    \n",
    "    y= sess.run(y, feed_dict={x: test})\n",
    "    y = y*(Max[4] - Min[4])+Min[4] #将y反归一化"
   ]
  },
  {
   "cell_type": "code",
   "execution_count": 82,
   "id": "9ad6fd70",
   "metadata": {},
   "outputs": [],
   "source": [
    "df_new = pd.DataFrame(y)\n",
    "df_new['index']= range(len(df_new))\n",
    "df_new.columns=['gameDuration','index']\n",
    "df_new=df_new.reindex(columns=['index','gameDuration'])\n",
    "df_new.to_csv(\"test_BP.csv\",index=False,sep=',')"
   ]
  },
  {
   "cell_type": "markdown",
   "id": "0e071874",
   "metadata": {},
   "source": [
    "## KNN"
   ]
  },
  {
   "cell_type": "code",
   "execution_count": 7,
   "id": "e9f5f1ab",
   "metadata": {},
   "outputs": [],
   "source": [
    "##KNN\n",
    "from sklearn import neighbors\n",
    "data = totalX\n",
    "labels = totalY \n",
    "E = [1000000,0]\n",
    "err_KNN = [0] * 95\n",
    "for k in range(5,100):\n",
    "    knn = neighbors.KNeighborsClassifier(k)\n",
    "    knn.fit(data, labels)\n",
    "    y = knn.predict(testX)\n",
    "\n",
    "    err_KNN[k-5] = metrics.mean_squared_error (y, testY)\n",
    "    if err_KNN[k-5] < E[0]:\n",
    "        E[0] = err_KNN[k-5]\n",
    "        E[1] = k\n",
    "        Y = y\n",
    "        \n",
    "n = len(y)\n",
    "right = 0\n",
    "for i in range(n):\n",
    "    if Y[i] >= (math.floor(testY[i][0]/100)*100-150) and Y[i] <= (math.ceil(testY[i][0]/100)*100+150):\n",
    "    #if abs(Y[i]-testY[i][0]) <= 100:\n",
    "        right += 1"
   ]
  },
  {
   "cell_type": "code",
   "execution_count": 8,
   "id": "f941d2de",
   "metadata": {},
   "outputs": [
    {
     "data": {
      "image/png": "[encoded data removed]",
      "text/plain": [
       "<Figure size 660x440 with 1 Axes>"
      ]
     },
     "metadata": {
      "needs_background": "light"
     },
     "output_type": "display_data"
    },
    {
     "name": "stdout",
     "output_type": "stream",
     "text": [
      "最佳正确率为： 0.9739166666666667\n",
      "最佳K值为： 48 测试集均方误差为： 14459.062\n"
     ]
    }
   ],
   "source": [
    "plt.figure(dpi=110)\n",
    "plt.xlabel(\"K值\")\n",
    "plt.ylabel(\"均方误差\")\n",
    "plt.plot(range(5,100),err_KNN)\n",
    "plt.show()\n",
    "print('最佳正确率为：',right/n)\n",
    "print(\"最佳K值为：\",E[1],\"测试集均方误差为：\",E[0]);"
   ]
  },
  {
   "cell_type": "code",
   "execution_count": 9,
   "id": "95c0e7be",
   "metadata": {},
   "outputs": [],
   "source": [
    "#预测\n",
    "knn = neighbors.KNeighborsClassifier(41)\n",
    "data = totalX\n",
    "labels = totalY\n",
    "knn.fit(data, labels)\n",
    "y = knn.predict(np.array(Test))\n"
   ]
  },
  {
   "cell_type": "code",
   "execution_count": 10,
   "id": "1c8bd83d",
   "metadata": {},
   "outputs": [],
   "source": [
    "df_new = pd.DataFrame(y)\n",
    "df_new['index']= range(len(df_new))\n",
    "df_new.columns=['gameDuration','index']\n",
    "df_new=df_new.reindex(columns=['index','gameDuration'])"
   ]
  },
  {
   "cell_type": "code",
   "execution_count": 11,
   "id": "4075bf9d",
   "metadata": {},
   "outputs": [],
   "source": [
    "df_new.to_csv(\"test_KNN.csv\",index=False,sep=',')"
   ]
  },
  {
   "cell_type": "markdown",
   "id": "21eae621",
   "metadata": {},
   "source": [
    "## SVM"
   ]
  },
  {
   "cell_type": "code",
   "execution_count": 147,
   "id": "4de7f50f",
   "metadata": {},
   "outputs": [
    {
     "name": "stdout",
     "output_type": "stream",
     "text": [
      "测试集均方误差为： 23766.188498855518\n"
     ]
    }
   ],
   "source": [
    "#SVM\n",
    "from sklearn import svm\n",
    "data = totalX\n",
    "labels = totalY \n",
    "clf = svm.SVR()\n",
    "clf.fit(totalX, totalY) \n",
    "y = clf.predict(testX)\n",
    "err_svm = metrics.mean_squared_error (y, testY)\n",
    "print(\"测试集均方误差为：\",err_svm);"
   ]
  },
  {
   "cell_type": "markdown",
   "id": "5baf2369",
   "metadata": {},
   "source": [
    "## Decision Tree"
   ]
  },
  {
   "cell_type": "code",
   "execution_count": 41,
   "id": "4cbb7f58",
   "metadata": {},
   "outputs": [
    {
     "name": "stdout",
     "output_type": "stream",
     "text": [
      "测试集均方误差为： 24150.702625\n"
     ]
    }
   ],
   "source": [
    "##tree\n",
    "from sklearn import tree\n",
    "data = totalX\n",
    "labels = totalY \n",
    "clf = tree.DecisionTreeRegressor()\n",
    "clf = clf.fit(data, labels)\n",
    "y = clf.predict(testX)\n",
    "err_tree = metrics.mean_squared_error (y, testY)\n",
    "print(\"测试集均方误差为：\",err_tree);"
   ]
  },
  {
   "cell_type": "code",
   "execution_count": 180,
   "id": "d67669aa",
   "metadata": {},
   "outputs": [],
   "source": [
    "#预测\n",
    "y = clf.predict(np.array(Test))"
   ]
  },
  {
   "cell_type": "code",
   "execution_count": 35,
   "id": "b57a6786",
   "metadata": {},
   "outputs": [],
   "source": [
    "df_new = pd.DataFrame(y)\n",
    "df_new['index']= range(len(df_new))\n",
    "df_new.columns=['gameDuration','index']\n",
    "df_new=df_new.reindex(columns=['index','gameDuration'])"
   ]
  },
  {
   "cell_type": "code",
   "execution_count": 36,
   "id": "b72128ad",
   "metadata": {},
   "outputs": [],
   "source": [
    "df_new.to_csv(\"test_tree.csv\",index=False,sep=',')"
   ]
  },
  {
   "cell_type": "markdown",
   "id": "662d6e9d",
   "metadata": {},
   "source": [
    "## Bayes"
   ]
  },
  {
   "cell_type": "code",
   "execution_count": 42,
   "id": "5eee3d4b",
   "metadata": {},
   "outputs": [
    {
     "name": "stdout",
     "output_type": "stream",
     "text": [
      "测试集均方误差为： 52772.974916666666\n"
     ]
    }
   ],
   "source": [
    "from sklearn.naive_bayes import GaussianNB\n",
    "data = totalX\n",
    "labels = totalY \n",
    "gnb = GaussianNB()\n",
    "gnb = gnb.fit(data, labels)\n",
    "y = gnb.predict(testX)\n",
    "err_bayes = metrics.mean_squared_error (y, testY)\n",
    "print(\"测试集均方误差为：\",err_bayes)"
   ]
  },
  {
   "cell_type": "code",
   "execution_count": 37,
   "id": "d4c9ddfc",
   "metadata": {},
   "outputs": [],
   "source": [
    "#预测\n",
    "y = gnb.predict(np.array(Test))"
   ]
  },
  {
   "cell_type": "code",
   "execution_count": 38,
   "id": "ae051795",
   "metadata": {},
   "outputs": [],
   "source": [
    "df_new = pd.DataFrame(y)\n",
    "df_new['index']= range(len(df_new))\n",
    "df_new.columns=['gameDuration','index']\n",
    "df_new=df_new.reindex(columns=['index','gameDuration'])"
   ]
  },
  {
   "cell_type": "code",
   "execution_count": 39,
   "id": "f2cc53cd",
   "metadata": {},
   "outputs": [],
   "source": [
    "df_new.to_csv(\"test_bayes.csv\",index=False,sep=',')"
   ]
  },
  {
   "cell_type": "markdown",
   "id": "e04dc9d2",
   "metadata": {},
   "source": [
    "## 多元"
   ]
  },
  {
   "cell_type": "code",
   "execution_count": 35,
   "id": "fa429e20",
   "metadata": {},
   "outputs": [
    {
     "name": "stdout",
     "output_type": "stream",
     "text": [
      "测试集均方误差为： 12239.60481076169\n"
     ]
    }
   ],
   "source": [
    "#要重新预处理，时间不预处理（不使用roundup函数）\n",
    "from sklearn.preprocessing import PolynomialFeatures\n",
    "from sklearn.linear_model import LinearRegression\n",
    "\n",
    "data = totalX\n",
    "labels = totalY\n",
    "\n",
    "reg = PolynomialFeatures(degree=4)\n",
    "data_train = reg.fit_transform(data)\n",
    "testX_train = reg.fit_transform(testX)\n",
    "lg = LinearRegression()\n",
    "lg.fit(data_train,labels)\n",
    "y = lg.predict(testX_train)\n",
    "err_ploy = metrics.mean_squared_error (y, testY)\n",
    "print(\"测试集均方误差为：\",err_ploy)"
   ]
  },
  {
   "cell_type": "code",
   "execution_count": 194,
   "id": "61d9705a",
   "metadata": {},
   "outputs": [],
   "source": [
    "#预测\n",
    "Test_train = reg.fit_transform(Test)\n",
    "y = lg.predict(Test_train)\n",
    "df_new = pd.DataFrame(y)\n",
    "df_new['index']= range(len(df_new))\n",
    "df_new.columns=['gameDuration','index']\n",
    "df_new=df_new.reindex(columns=['index','gameDuration'])"
   ]
  },
  {
   "cell_type": "code",
   "execution_count": 197,
   "id": "48ee9588",
   "metadata": {},
   "outputs": [],
   "source": [
    "df_new.to_csv(\"test_Poly.csv\",index=False,sep=',')"
   ]
  },
  {
   "cell_type": "markdown",
   "id": "40e06757",
   "metadata": {},
   "source": [
    "## MLP"
   ]
  },
  {
   "cell_type": "code",
   "execution_count": 83,
   "id": "8d8746b5",
   "metadata": {},
   "outputs": [
    {
     "name": "stdout",
     "output_type": "stream",
     "text": [
      "测试集均方误差为： 25560.91075\n"
     ]
    }
   ],
   "source": [
    "from sklearn.neural_network import MLPClassifier\n",
    "\n",
    "data = totalX\n",
    "labels = totalY\n",
    "\n",
    "clf = MLPClassifier(solver='lbfgs', alpha=1e-5,hidden_layer_sizes=(9, 4), random_state=1)\n",
    "clf.fit(data, labels)\n",
    "y = clf.predict(testX)\n",
    "err_mlp = metrics.mean_squared_error (y, testY)\n",
    "print(\"测试集均方误差为：\",err_mlp)"
   ]
  },
  {
   "cell_type": "markdown",
   "id": "8d07b34d",
   "metadata": {},
   "source": [
    "## Random forest"
   ]
  },
  {
   "cell_type": "code",
   "execution_count": 8,
   "id": "c732d70c",
   "metadata": {},
   "outputs": [
    {
     "name": "stdout",
     "output_type": "stream",
     "text": [
      "测试集均方误差为： 19525.337083333332\n"
     ]
    }
   ],
   "source": [
    "from sklearn.ensemble import RandomForestClassifier\n",
    "\n",
    "data = totalX\n",
    "labels = totalY\n",
    "\n",
    "clf = RandomForestClassifier(n_jobs=3)\n",
    "clf.fit(data, labels)\n",
    "y = clf.predict(testX)\n",
    "err_for = metrics.mean_squared_error (y, testY)\n",
    "print(\"测试集均方误差为：\",err_for)"
   ]
  },
  {
   "cell_type": "code",
   "execution_count": 85,
   "id": "4c20dee4",
   "metadata": {},
   "outputs": [],
   "source": [
    "#预测\n",
    "y = clf.predict(np.array(Test))\n",
    "df_new = pd.DataFrame(y)\n",
    "df_new['index']= range(len(df_new))\n",
    "df_new.columns=['gameDuration','index']\n",
    "df_new=df_new.reindex(columns=['index','gameDuration'])"
   ]
  },
  {
   "cell_type": "code",
   "execution_count": 86,
   "id": "f7ae980f",
   "metadata": {},
   "outputs": [],
   "source": [
    "df_new.to_csv(\"test_forest.csv\",index=False,sep=',')"
   ]
  },
  {
   "cell_type": "markdown",
   "id": "c4396e3e",
   "metadata": {},
   "source": [
    "## 对比"
   ]
  },
  {
   "cell_type": "code",
   "execution_count": 84,
   "id": "850c75c2",
   "metadata": {},
   "outputs": [
    {
     "data": {
      "text/plain": [
       "<BarContainer object of 8 artists>"
      ]
     },
     "execution_count": 84,
     "metadata": {},
     "output_type": "execute_result"
    },
    {
     "data": {
      "image/png": "[encoded data removed]",
      "text/plain": [
       "<Figure size 660x440 with 1 Axes>"
      ]
     },
     "metadata": {
      "needs_background": "light"
     },
     "output_type": "display_data"
    }
   ],
   "source": [
    "err = [err_BP,E[0],err_svm,err_tree,err_bayes,err_ploy,err_mlp,err_for]\n",
    "x=['BP神经网络','KNN','SVM','决策树','Bayes','多元','MLP','随机森林']\n",
    "plt.figure(dpi=110)\n",
    "plt.xlabel(\"算法\")\n",
    "plt.ylabel(\"均方误差\")\n",
    "for a,b in zip(x,err):\n",
    "    plt.text(a, b+300, '%.0f' % b, ha='center', va= 'bottom',fontsize=10)\n",
    "x=['BP神经网络','KNN','SVM','决策树','Bayes','多元','MLP','随机森林']\n",
    "plt.bar(x, height=err, width=0.5, )"
   ]
  },
  {
   "cell_type": "markdown",
   "id": "3b0278f6",
   "metadata": {},
   "source": [
    "## autogluon"
   ]
  },
  {
   "cell_type": "code",
   "execution_count": 13,
   "id": "bb3ec737",
   "metadata": {},
   "outputs": [
    {
     "name": "stderr",
     "output_type": "stream",
     "text": [
      "No path specified. Models will be saved in: \"AutogluonModels/ag-20210531_131741\\\"\n",
      "Beginning AutoGluon training ...\n",
      "AutoGluon will save models to \"AutogluonModels/ag-20210531_131741\\\"\n",
      "AutoGluon Version:  0.2.0\n",
      "Train Data Rows:    48000\n",
      "Train Data Columns: 4\n",
      "Preprocessing data ...\n",
      "AutoGluon infers your prediction problem is: 'regression' (because dtype of label-column == int and many unique label-values observed).\n",
      "\tLabel info (max, min, mean, stddev): (3386, 190, 1626.12452, 450.88851)\n",
      "\tIf 'regression' is not the correct problem_type, please manually specify the problem_type argument in fit() (You may specify problem_type as one of: ['binary', 'multiclass', 'regression'])\n",
      "Using Feature Generators to preprocess the data ...\n",
      "Fitting AutoMLPipelineFeatureGenerator...\n",
      "\tAvailable Memory:                    2531.29 MB\n",
      "\tTrain Data (Original)  Memory Usage: 1.54 MB (0.1% of available memory)\n",
      "\tInferring data type of each feature based on column values. Set feature_metadata_in to manually specify special dtypes of the features.\n",
      "\tStage 1 Generators:\n",
      "\t\tFitting AsTypeFeatureGenerator...\n",
      "\tStage 2 Generators:\n",
      "\t\tFitting FillNaFeatureGenerator...\n",
      "\tStage 3 Generators:\n",
      "\t\tFitting IdentityFeatureGenerator...\n",
      "\tStage 4 Generators:\n",
      "\t\tFitting DropUniqueFeatureGenerator...\n",
      "\tTypes of features in original data (raw dtype, special dtypes):\n",
      "\t\t('float', []) : 3 | ['sum_kills', 'sum_assists', 'sum_deaths']\n",
      "\t\t('int', [])   : 1 | ['sum_gold']\n",
      "\tTypes of features in processed data (raw dtype, special dtypes):\n",
      "\t\t('float', []) : 3 | ['sum_kills', 'sum_assists', 'sum_deaths']\n",
      "\t\t('int', [])   : 1 | ['sum_gold']\n",
      "\t0.1s = Fit runtime\n",
      "\t4 features in original data used to generate 4 features in processed data.\n",
      "\tTrain Data (Processed) Memory Usage: 1.54 MB (0.1% of available memory)\n",
      "Data preprocessing and feature engineering runtime = 0.14s ...\n",
      "AutoGluon will gauge predictive performance using evaluation metric: 'root_mean_squared_error'\n",
      "\tTo change this, specify the eval_metric argument of fit()\n",
      "Automatically generating train/validation split with holdout_frac=0.052083333333333336, Train Rows: 45500, Val Rows: 2500\n",
      "Fitting model: KNeighborsUnif ...\n",
      "\t-177.8599\t = Validation root_mean_squared_error score\n",
      "\t0.1s\t = Training runtime\n",
      "\t0.01s\t = Validation runtime\n",
      "Fitting model: KNeighborsDist ...\n",
      "\t-176.296\t = Validation root_mean_squared_error score\n",
      "\t0.1s\t = Training runtime\n",
      "\t0.01s\t = Validation runtime\n",
      "Fitting model: LightGBMXT ...\n"
     ]
    },
    {
     "name": "stdout",
     "output_type": "stream",
     "text": [
      "[1000]\ttrain_set's rmse: 108.974\tvalid_set's rmse: 117.042\n"
     ]
    },
    {
     "name": "stderr",
     "output_type": "stream",
     "text": [
      "\t-116.7746\t = Validation root_mean_squared_error score\n",
      "\t5.28s\t = Training runtime\n",
      "\t0.09s\t = Validation runtime\n",
      "Fitting model: LightGBM ...\n",
      "\t-113.6013\t = Validation root_mean_squared_error score\n",
      "\t0.87s\t = Training runtime\n",
      "\t0.02s\t = Validation runtime\n",
      "Fitting model: RandomForestMSE ...\n",
      "\tWarning: Reducing model 'n_estimators' from 300 -> 100 due to low memory. Expected memory usage reduced from 44.71% -> 15.0% of available memory...\n",
      "\t-118.3523\t = Validation root_mean_squared_error score\n",
      "\t5.13s\t = Training runtime\n",
      "\t0.06s\t = Validation runtime\n",
      "Fitting model: CatBoost ...\n",
      "\t-114.7744\t = Validation root_mean_squared_error score\n",
      "\t3.87s\t = Training runtime\n",
      "\t0.01s\t = Validation runtime\n",
      "Fitting model: ExtraTreesMSE ...\n",
      "\tWarning: Reducing model 'n_estimators' from 300 -> 102 due to low memory. Expected memory usage reduced from 43.81% -> 15.0% of available memory...\n",
      "\t-119.1727\t = Validation root_mean_squared_error score\n",
      "\t2.1s\t = Training runtime\n",
      "\t0.06s\t = Validation runtime\n",
      "Fitting model: NeuralNetFastAI ...\n",
      "\t-113.6845\t = Validation root_mean_squared_error score\n",
      "\t107.07s\t = Training runtime\n",
      "\t0.1s\t = Validation runtime\n",
      "Fitting model: XGBoost ...\n",
      "\t-115.1714\t = Validation root_mean_squared_error score\n",
      "\t6.15s\t = Training runtime\n",
      "\t0.01s\t = Validation runtime\n",
      "Fitting model: NeuralNetMXNet ...\n",
      "\t-115.2583\t = Validation root_mean_squared_error score\n",
      "\t333.03s\t = Training runtime\n",
      "\t0.13s\t = Validation runtime\n",
      "Fitting model: LightGBMLarge ...\n",
      "\t-115.5844\t = Validation root_mean_squared_error score\n",
      "\t1.51s\t = Training runtime\n",
      "\t0.03s\t = Validation runtime\n",
      "Fitting model: WeightedEnsemble_L2 ...\n",
      "\t-112.7626\t = Validation root_mean_squared_error score\n",
      "\t1.16s\t = Training runtime\n",
      "\t0.0s\t = Validation runtime\n",
      "AutoGluon training complete, total runtime = 471.42s ...\n",
      "TabularPredictor saved. To load, use: predictor = TabularPredictor.load(\"AutogluonModels/ag-20210531_131741\\\")\n"
     ]
    },
    {
     "name": "stdout",
     "output_type": "stream",
     "text": [
      "测试集均方误差为： 11266.0005795075\n"
     ]
    }
   ],
   "source": [
    "#要重新预处理数据，不要将时间整数化（会加大误差），不用归一化\n",
    "from autogluon.tabular import TabularDataset,TabularPredictor\n",
    "predictor = TabularPredictor(label='gameDuration').fit(df[0:48000])\n",
    "a=df[48000:60000].drop(['gameDuration'],axis=1)\n",
    "y = predictor.predict(a)\n",
    "err_auto = metrics.mean_squared_error (y, testY)\n",
    "print(\"测试集均方误差为：\",err_auto);"
   ]
  },
  {
   "cell_type": "code",
   "execution_count": null,
   "id": "44c92b2e",
   "metadata": {},
   "outputs": [],
   "source": [
    "df_new = pd.DataFrame(y)\n",
    "df_new['index']= range(len(df_new))\n",
    "df_new.columns=['gameDuration','index']\n",
    "df_new=df_new.reindex(columns=['index','gameDuration'])"
   ]
  },
  {
   "cell_type": "code",
   "execution_count": null,
   "id": "32f9ffb0",
   "metadata": {},
   "outputs": [],
   "source": [
    "df_new.to_csv(\"test_auto.csv\",index=False,sep=',')"
   ]
  }
 ],
 "metadata": {
  "kernelspec": {
   "display_name": "Python 3",
   "language": "python",
   "name": "python3"
  },
  "language_info": {
   "codemirror_mode": {
    "name": "ipython",
    "version": 3
   },
   "file_extension": ".py",
   "mimetype": "text/x-python",
   "name": "python",
   "nbconvert_exporter": "python",
   "pygments_lexer": "ipython3",
   "version": "3.8.8"
  }
 },
 "nbformat": 4,
 "nbformat_minor": 5
}
